{
 "cells": [
  {
   "cell_type": "markdown",
   "metadata": {},
   "source": [
    "## FOMC Meeting End Dates\n",
    "\n",
    "Preamble: Scientific findings are by definition reproducible by controlled experiment. This notebook validates results in this paper: http://faculty.haas.berkeley.edu/vissing/cycle_paper_cieslak_morse_vissingjorgensen.pdf\n",
    "\n",
    "i. Web Scrape FOMC Meeting End Dates"
   ]
  },
  {
   "cell_type": "code",
   "execution_count": 3,
   "metadata": {},
   "outputs": [],
   "source": [
    "import requests\n",
    "from lxml import html\n",
    "from datetime import *\n",
    "import pandas as pd\n",
    "import numpy as np"
   ]
  },
  {
   "cell_type": "markdown",
   "metadata": {},
   "source": [
    "Recent Meetings: https://www.federalreserve.gov/monetarypolicy/fomccalendars.htm"
   ]
  },
  {
   "cell_type": "code",
   "execution_count": 4,
   "metadata": {},
   "outputs": [],
   "source": [
    "url = 'https://www.federalreserve.gov/monetarypolicy/fomccalendars.htm'\n",
    "fomccalendars = html.fromstring(requests.get(url).content)"
   ]
  },
  {
   "cell_type": "code",
   "execution_count": 25,
   "metadata": {},
   "outputs": [],
   "source": [
    "fomc_dates = []\n",
    "for panel in fomccalendars.xpath(\".//div[@class='panel panel-default']\"):\n",
    "    year = int(panel.xpath(\".//div[@class='panel-heading']//text()\")[0][0:4])\n",
    "    months = panel.xpath(\".//div[contains(@class, 'month')]//text()\")\n",
    "    dates = panel.xpath(\".//div[contains(@class, 'date')]/text()\")\n",
    "    m = [ datetime.strptime(month.split('/')[-1][0:3], '%b').month for month in months ]\n",
    "    d = [ int(day.split('-')[-1].rstrip('*')) for day in dates if not \"unscheduled\" in day ]\n",
    "    fomc_dates += [ datetime(year, m, d).date() for m,d in zip(m, d) ]    "
   ]
  },
  {
   "cell_type": "markdown",
   "metadata": {},
   "source": [
    "Historical Meetings: https://www.federalreserve.gov/monetarypolicy/fomc_historical_year.htm"
   ]
  },
  {
   "cell_type": "code",
   "execution_count": 28,
   "metadata": {},
   "outputs": [],
   "source": [
    "url = 'https://www.federalreserve.gov/monetarypolicy/fomc_historical_year.htm'\n",
    "fomc_historical_year = html.fromstring(requests.get(url).content)\n",
    "fomchistorical = [ 'https://www.federalreserve.gov'+href for href in fomc_historical_year.xpath(\".//div[@id='article']//a/@href\") ]"
   ]
  },
  {
   "cell_type": "code",
   "execution_count": 30,
   "metadata": {},
   "outputs": [],
   "source": [
    "dates = []\n",
    "for url in fomchistorical:\n",
    "    historical = html.fromstring(requests.get(url).content)\n",
    "    dates += historical.xpath(\".//h5/text()\")"
   ]
  },
  {
   "cell_type": "code",
   "execution_count": 31,
   "metadata": {},
   "outputs": [],
   "source": [
    "meetings = [ meeting.split() for meeting in dates if \"Meeting\" in meeting ]\n",
    "years = [ int(meeting[-1]) for meeting in meetings]\n",
    "months = [ datetime.strptime(date[0], '%B').month if len(date)==5 else datetime.strptime(date[0], '%B').month+1 for date in meetings ]\n",
    "days = [ int(date[1].split('-')[-1]) if len(date)==5 else 1 for date in meetings ]\n",
    "fomc_dates += [ datetime(y, m, d).date() for y,m,d in zip(years, months, days) ]"
   ]
  },
  {
   "cell_type": "code",
   "execution_count": 36,
   "metadata": {},
   "outputs": [],
   "source": [
    "# 2003 Sep\n",
    "fomc_dates.sort()\n",
    "fomc_df = pd.DataFrame(fomc_dates, columns=['fomc_date'], dtype='datetime64[ns]')"
   ]
  },
  {
   "cell_type": "markdown",
   "metadata": {},
   "source": [
    "ii. Calculate FOMC Calendar"
   ]
  },
  {
   "cell_type": "code",
   "execution_count": 68,
   "metadata": {},
   "outputs": [],
   "source": [
    "calendar = pd.bdate_range(start=min(fomc_df['fomc_date']), end=max(fomc_df['fomc_date']))\n",
    "last_fomc = [ max(fomc_df[fomc_df['fomc_date'] <= date]['fomc_date']) for date in calendar ]\n",
    "next_fomc = [ min(fomc_df[fomc_df['fomc_date'] >= date]['fomc_date']) for date in calendar ]\n",
    "days_since = [ np.busday_count(last_fomc[d], calendar[d]) for d in range(len(calendar)) ]\n",
    "days_before = [ -np.busday_count(calendar[d], next_fomc[d]) for d in range(len(calendar)) ]\n",
    "fomc_day = [ days_before[d] if days_before[d] >= -6 else days_since[d] for d in range(len(calendar)) ]\n",
    "fomc_week = [ (fomc_day[d] + 1) // 5 for d in range(len(calendar))]\n",
    "fomc_calendar = pd.DataFrame(data={'fomc_day': fomc_day, 'fomc_week': fomc_week}, index=calendar)\n",
    "fomc_calendar.index.name = 'date'"
   ]
  },
  {
   "cell_type": "markdown",
   "metadata": {},
   "source": [
    "iii. Returns"
   ]
  },
  {
   "cell_type": "code",
   "execution_count": null,
   "metadata": {},
   "outputs": [],
   "source": [
    "# 5day logic data in QC FOMC"
   ]
  },
  {
   "cell_type": "code",
   "execution_count": 73,
   "metadata": {},
   "outputs": [],
   "source": [
    "five_day = pd.read_csv('5day.csv', index_col=0, parse_dates=[0], infer_datetime_format=True)\n",
    "df = fomc_calendar.join(five_day).dropna()"
   ]
  },
  {
   "cell_type": "code",
   "execution_count": 76,
   "metadata": {},
   "outputs": [],
   "source": [
    "fomc = df[df['fomc_day'] < 34]\n",
    "group = fomc.groupby('fomc_day')"
   ]
  },
  {
   "cell_type": "code",
   "execution_count": 77,
   "metadata": {},
   "outputs": [
    {
     "data": {
      "text/html": [
       "\n",
       "    <div class=\"bk-root\">\n",
       "        <a href=\"https://bokeh.pydata.org\" target=\"_blank\" class=\"bk-logo bk-logo-small bk-logo-notebook\"></a>\n",
       "        <span id=\"66d2fcd1-23ed-4932-809e-5fb96da224fd\">Loading BokehJS ...</span>\n",
       "    </div>"
      ]
     },
     "metadata": {},
     "output_type": "display_data"
    },
    {
     "data": {
      "application/javascript": [
       "\n",
       "(function(root) {\n",
       "  function now() {\n",
       "    return new Date();\n",
       "  }\n",
       "\n",
       "  var force = true;\n",
       "\n",
       "  if (typeof (root._bokeh_onload_callbacks) === \"undefined\" || force === true) {\n",
       "    root._bokeh_onload_callbacks = [];\n",
       "    root._bokeh_is_loading = undefined;\n",
       "  }\n",
       "\n",
       "  var JS_MIME_TYPE = 'application/javascript';\n",
       "  var HTML_MIME_TYPE = 'text/html';\n",
       "  var EXEC_MIME_TYPE = 'application/vnd.bokehjs_exec.v0+json';\n",
       "  var CLASS_NAME = 'output_bokeh rendered_html';\n",
       "\n",
       "  /**\n",
       "   * Render data to the DOM node\n",
       "   */\n",
       "  function render(props, node) {\n",
       "    var script = document.createElement(\"script\");\n",
       "    node.appendChild(script);\n",
       "  }\n",
       "\n",
       "  /**\n",
       "   * Handle when an output is cleared or removed\n",
       "   */\n",
       "  function handleClearOutput(event, handle) {\n",
       "    var cell = handle.cell;\n",
       "\n",
       "    var id = cell.output_area._bokeh_element_id;\n",
       "    var server_id = cell.output_area._bokeh_server_id;\n",
       "    // Clean up Bokeh references\n",
       "    if (id !== undefined) {\n",
       "      Bokeh.index[id].model.document.clear();\n",
       "      delete Bokeh.index[id];\n",
       "    }\n",
       "\n",
       "    if (server_id !== undefined) {\n",
       "      // Clean up Bokeh references\n",
       "      var cmd = \"from bokeh.io.state import curstate; print(curstate().uuid_to_server['\" + server_id + \"'].get_sessions()[0].document.roots[0]._id)\";\n",
       "      cell.notebook.kernel.execute(cmd, {\n",
       "        iopub: {\n",
       "          output: function(msg) {\n",
       "            var element_id = msg.content.text.trim();\n",
       "            Bokeh.index[element_id].model.document.clear();\n",
       "            delete Bokeh.index[element_id];\n",
       "          }\n",
       "        }\n",
       "      });\n",
       "      // Destroy server and session\n",
       "      var cmd = \"import bokeh.io.notebook as ion; ion.destroy_server('\" + server_id + \"')\";\n",
       "      cell.notebook.kernel.execute(cmd);\n",
       "    }\n",
       "  }\n",
       "\n",
       "  /**\n",
       "   * Handle when a new output is added\n",
       "   */\n",
       "  function handleAddOutput(event, handle) {\n",
       "    var output_area = handle.output_area;\n",
       "    var output = handle.output;\n",
       "\n",
       "    // limit handleAddOutput to display_data with EXEC_MIME_TYPE content only\n",
       "    if ((output.output_type != \"display_data\") || (!output.data.hasOwnProperty(EXEC_MIME_TYPE))) {\n",
       "      return\n",
       "    }\n",
       "\n",
       "    var toinsert = output_area.element.find(\".\" + CLASS_NAME.split(' ')[0]);\n",
       "\n",
       "    if (output.metadata[EXEC_MIME_TYPE][\"id\"] !== undefined) {\n",
       "      toinsert[0].firstChild.textContent = output.data[JS_MIME_TYPE];\n",
       "      // store reference to embed id on output_area\n",
       "      output_area._bokeh_element_id = output.metadata[EXEC_MIME_TYPE][\"id\"];\n",
       "    }\n",
       "    if (output.metadata[EXEC_MIME_TYPE][\"server_id\"] !== undefined) {\n",
       "      var bk_div = document.createElement(\"div\");\n",
       "      bk_div.innerHTML = output.data[HTML_MIME_TYPE];\n",
       "      var script_attrs = bk_div.children[0].attributes;\n",
       "      for (var i = 0; i < script_attrs.length; i++) {\n",
       "        toinsert[0].firstChild.setAttribute(script_attrs[i].name, script_attrs[i].value);\n",
       "      }\n",
       "      // store reference to server id on output_area\n",
       "      output_area._bokeh_server_id = output.metadata[EXEC_MIME_TYPE][\"server_id\"];\n",
       "    }\n",
       "  }\n",
       "\n",
       "  function register_renderer(events, OutputArea) {\n",
       "\n",
       "    function append_mime(data, metadata, element) {\n",
       "      // create a DOM node to render to\n",
       "      var toinsert = this.create_output_subarea(\n",
       "        metadata,\n",
       "        CLASS_NAME,\n",
       "        EXEC_MIME_TYPE\n",
       "      );\n",
       "      this.keyboard_manager.register_events(toinsert);\n",
       "      // Render to node\n",
       "      var props = {data: data, metadata: metadata[EXEC_MIME_TYPE]};\n",
       "      render(props, toinsert[0]);\n",
       "      element.append(toinsert);\n",
       "      return toinsert\n",
       "    }\n",
       "\n",
       "    /* Handle when an output is cleared or removed */\n",
       "    events.on('clear_output.CodeCell', handleClearOutput);\n",
       "    events.on('delete.Cell', handleClearOutput);\n",
       "\n",
       "    /* Handle when a new output is added */\n",
       "    events.on('output_added.OutputArea', handleAddOutput);\n",
       "\n",
       "    /**\n",
       "     * Register the mime type and append_mime function with output_area\n",
       "     */\n",
       "    OutputArea.prototype.register_mime_type(EXEC_MIME_TYPE, append_mime, {\n",
       "      /* Is output safe? */\n",
       "      safe: true,\n",
       "      /* Index of renderer in `output_area.display_order` */\n",
       "      index: 0\n",
       "    });\n",
       "  }\n",
       "\n",
       "  // register the mime type if in Jupyter Notebook environment and previously unregistered\n",
       "  if (root.Jupyter !== undefined) {\n",
       "    var events = require('base/js/events');\n",
       "    var OutputArea = require('notebook/js/outputarea').OutputArea;\n",
       "\n",
       "    if (OutputArea.prototype.mime_types().indexOf(EXEC_MIME_TYPE) == -1) {\n",
       "      register_renderer(events, OutputArea);\n",
       "    }\n",
       "  }\n",
       "\n",
       "  \n",
       "  if (typeof (root._bokeh_timeout) === \"undefined\" || force === true) {\n",
       "    root._bokeh_timeout = Date.now() + 5000;\n",
       "    root._bokeh_failed_load = false;\n",
       "  }\n",
       "\n",
       "  var NB_LOAD_WARNING = {'data': {'text/html':\n",
       "     \"<div style='background-color: #fdd'>\\n\"+\n",
       "     \"<p>\\n\"+\n",
       "     \"BokehJS does not appear to have successfully loaded. If loading BokehJS from CDN, this \\n\"+\n",
       "     \"may be due to a slow or bad network connection. Possible fixes:\\n\"+\n",
       "     \"</p>\\n\"+\n",
       "     \"<ul>\\n\"+\n",
       "     \"<li>re-rerun `output_notebook()` to attempt to load from CDN again, or</li>\\n\"+\n",
       "     \"<li>use INLINE resources instead, as so:</li>\\n\"+\n",
       "     \"</ul>\\n\"+\n",
       "     \"<code>\\n\"+\n",
       "     \"from bokeh.resources import INLINE\\n\"+\n",
       "     \"output_notebook(resources=INLINE)\\n\"+\n",
       "     \"</code>\\n\"+\n",
       "     \"</div>\"}};\n",
       "\n",
       "  function display_loaded() {\n",
       "    var el = document.getElementById(\"66d2fcd1-23ed-4932-809e-5fb96da224fd\");\n",
       "    if (el != null) {\n",
       "      el.textContent = \"BokehJS is loading...\";\n",
       "    }\n",
       "    if (root.Bokeh !== undefined) {\n",
       "      if (el != null) {\n",
       "        el.textContent = \"BokehJS \" + root.Bokeh.version + \" successfully loaded.\";\n",
       "      }\n",
       "    } else if (Date.now() < root._bokeh_timeout) {\n",
       "      setTimeout(display_loaded, 100)\n",
       "    }\n",
       "  }\n",
       "\n",
       "\n",
       "  function run_callbacks() {\n",
       "    try {\n",
       "      root._bokeh_onload_callbacks.forEach(function(callback) { callback() });\n",
       "    }\n",
       "    finally {\n",
       "      delete root._bokeh_onload_callbacks\n",
       "    }\n",
       "    console.info(\"Bokeh: all callbacks have finished\");\n",
       "  }\n",
       "\n",
       "  function load_libs(js_urls, callback) {\n",
       "    root._bokeh_onload_callbacks.push(callback);\n",
       "    if (root._bokeh_is_loading > 0) {\n",
       "      console.log(\"Bokeh: BokehJS is being loaded, scheduling callback at\", now());\n",
       "      return null;\n",
       "    }\n",
       "    if (js_urls == null || js_urls.length === 0) {\n",
       "      run_callbacks();\n",
       "      return null;\n",
       "    }\n",
       "    console.log(\"Bokeh: BokehJS not loaded, scheduling load and callback at\", now());\n",
       "    root._bokeh_is_loading = js_urls.length;\n",
       "    for (var i = 0; i < js_urls.length; i++) {\n",
       "      var url = js_urls[i];\n",
       "      var s = document.createElement('script');\n",
       "      s.src = url;\n",
       "      s.async = false;\n",
       "      s.onreadystatechange = s.onload = function() {\n",
       "        root._bokeh_is_loading--;\n",
       "        if (root._bokeh_is_loading === 0) {\n",
       "          console.log(\"Bokeh: all BokehJS libraries loaded\");\n",
       "          run_callbacks()\n",
       "        }\n",
       "      };\n",
       "      s.onerror = function() {\n",
       "        console.warn(\"failed to load library \" + url);\n",
       "      };\n",
       "      console.log(\"Bokeh: injecting script tag for BokehJS library: \", url);\n",
       "      document.getElementsByTagName(\"head\")[0].appendChild(s);\n",
       "    }\n",
       "  };var element = document.getElementById(\"66d2fcd1-23ed-4932-809e-5fb96da224fd\");\n",
       "  if (element == null) {\n",
       "    console.log(\"Bokeh: ERROR: autoload.js configured with elementid '66d2fcd1-23ed-4932-809e-5fb96da224fd' but no matching script tag was found. \")\n",
       "    return false;\n",
       "  }\n",
       "\n",
       "  var js_urls = [\"https://cdn.pydata.org/bokeh/release/bokeh-0.12.13.min.js\", \"https://cdn.pydata.org/bokeh/release/bokeh-widgets-0.12.13.min.js\", \"https://cdn.pydata.org/bokeh/release/bokeh-tables-0.12.13.min.js\", \"https://cdn.pydata.org/bokeh/release/bokeh-gl-0.12.13.min.js\"];\n",
       "\n",
       "  var inline_js = [\n",
       "    function(Bokeh) {\n",
       "      Bokeh.set_log_level(\"info\");\n",
       "    },\n",
       "    \n",
       "    function(Bokeh) {\n",
       "      \n",
       "    },\n",
       "    function(Bokeh) {\n",
       "      console.log(\"Bokeh: injecting CSS: https://cdn.pydata.org/bokeh/release/bokeh-0.12.13.min.css\");\n",
       "      Bokeh.embed.inject_css(\"https://cdn.pydata.org/bokeh/release/bokeh-0.12.13.min.css\");\n",
       "      console.log(\"Bokeh: injecting CSS: https://cdn.pydata.org/bokeh/release/bokeh-widgets-0.12.13.min.css\");\n",
       "      Bokeh.embed.inject_css(\"https://cdn.pydata.org/bokeh/release/bokeh-widgets-0.12.13.min.css\");\n",
       "      console.log(\"Bokeh: injecting CSS: https://cdn.pydata.org/bokeh/release/bokeh-tables-0.12.13.min.css\");\n",
       "      Bokeh.embed.inject_css(\"https://cdn.pydata.org/bokeh/release/bokeh-tables-0.12.13.min.css\");\n",
       "    }\n",
       "  ];\n",
       "\n",
       "  function run_inline_js() {\n",
       "    \n",
       "    if ((root.Bokeh !== undefined) || (force === true)) {\n",
       "      for (var i = 0; i < inline_js.length; i++) {\n",
       "        inline_js[i].call(root, root.Bokeh);\n",
       "      }if (force === true) {\n",
       "        display_loaded();\n",
       "      }} else if (Date.now() < root._bokeh_timeout) {\n",
       "      setTimeout(run_inline_js, 100);\n",
       "    } else if (!root._bokeh_failed_load) {\n",
       "      console.log(\"Bokeh: BokehJS failed to load within specified timeout.\");\n",
       "      root._bokeh_failed_load = true;\n",
       "    } else if (force !== true) {\n",
       "      var cell = $(document.getElementById(\"66d2fcd1-23ed-4932-809e-5fb96da224fd\")).parents('.cell').data().cell;\n",
       "      cell.output_area.append_execute_result(NB_LOAD_WARNING)\n",
       "    }\n",
       "\n",
       "  }\n",
       "\n",
       "  if (root._bokeh_is_loading === 0) {\n",
       "    console.log(\"Bokeh: BokehJS loaded, going straight to plotting\");\n",
       "    run_inline_js();\n",
       "  } else {\n",
       "    load_libs(js_urls, function() {\n",
       "      console.log(\"Bokeh: BokehJS plotting callback run at\", now());\n",
       "      run_inline_js();\n",
       "    });\n",
       "  }\n",
       "}(window));"
      ],
      "application/vnd.bokehjs_load.v0+json": "\n(function(root) {\n  function now() {\n    return new Date();\n  }\n\n  var force = true;\n\n  if (typeof (root._bokeh_onload_callbacks) === \"undefined\" || force === true) {\n    root._bokeh_onload_callbacks = [];\n    root._bokeh_is_loading = undefined;\n  }\n\n  \n\n  \n  if (typeof (root._bokeh_timeout) === \"undefined\" || force === true) {\n    root._bokeh_timeout = Date.now() + 5000;\n    root._bokeh_failed_load = false;\n  }\n\n  var NB_LOAD_WARNING = {'data': {'text/html':\n     \"<div style='background-color: #fdd'>\\n\"+\n     \"<p>\\n\"+\n     \"BokehJS does not appear to have successfully loaded. If loading BokehJS from CDN, this \\n\"+\n     \"may be due to a slow or bad network connection. Possible fixes:\\n\"+\n     \"</p>\\n\"+\n     \"<ul>\\n\"+\n     \"<li>re-rerun `output_notebook()` to attempt to load from CDN again, or</li>\\n\"+\n     \"<li>use INLINE resources instead, as so:</li>\\n\"+\n     \"</ul>\\n\"+\n     \"<code>\\n\"+\n     \"from bokeh.resources import INLINE\\n\"+\n     \"output_notebook(resources=INLINE)\\n\"+\n     \"</code>\\n\"+\n     \"</div>\"}};\n\n  function display_loaded() {\n    var el = document.getElementById(\"66d2fcd1-23ed-4932-809e-5fb96da224fd\");\n    if (el != null) {\n      el.textContent = \"BokehJS is loading...\";\n    }\n    if (root.Bokeh !== undefined) {\n      if (el != null) {\n        el.textContent = \"BokehJS \" + root.Bokeh.version + \" successfully loaded.\";\n      }\n    } else if (Date.now() < root._bokeh_timeout) {\n      setTimeout(display_loaded, 100)\n    }\n  }\n\n\n  function run_callbacks() {\n    try {\n      root._bokeh_onload_callbacks.forEach(function(callback) { callback() });\n    }\n    finally {\n      delete root._bokeh_onload_callbacks\n    }\n    console.info(\"Bokeh: all callbacks have finished\");\n  }\n\n  function load_libs(js_urls, callback) {\n    root._bokeh_onload_callbacks.push(callback);\n    if (root._bokeh_is_loading > 0) {\n      console.log(\"Bokeh: BokehJS is being loaded, scheduling callback at\", now());\n      return null;\n    }\n    if (js_urls == null || js_urls.length === 0) {\n      run_callbacks();\n      return null;\n    }\n    console.log(\"Bokeh: BokehJS not loaded, scheduling load and callback at\", now());\n    root._bokeh_is_loading = js_urls.length;\n    for (var i = 0; i < js_urls.length; i++) {\n      var url = js_urls[i];\n      var s = document.createElement('script');\n      s.src = url;\n      s.async = false;\n      s.onreadystatechange = s.onload = function() {\n        root._bokeh_is_loading--;\n        if (root._bokeh_is_loading === 0) {\n          console.log(\"Bokeh: all BokehJS libraries loaded\");\n          run_callbacks()\n        }\n      };\n      s.onerror = function() {\n        console.warn(\"failed to load library \" + url);\n      };\n      console.log(\"Bokeh: injecting script tag for BokehJS library: \", url);\n      document.getElementsByTagName(\"head\")[0].appendChild(s);\n    }\n  };var element = document.getElementById(\"66d2fcd1-23ed-4932-809e-5fb96da224fd\");\n  if (element == null) {\n    console.log(\"Bokeh: ERROR: autoload.js configured with elementid '66d2fcd1-23ed-4932-809e-5fb96da224fd' but no matching script tag was found. \")\n    return false;\n  }\n\n  var js_urls = [\"https://cdn.pydata.org/bokeh/release/bokeh-0.12.13.min.js\", \"https://cdn.pydata.org/bokeh/release/bokeh-widgets-0.12.13.min.js\", \"https://cdn.pydata.org/bokeh/release/bokeh-tables-0.12.13.min.js\", \"https://cdn.pydata.org/bokeh/release/bokeh-gl-0.12.13.min.js\"];\n\n  var inline_js = [\n    function(Bokeh) {\n      Bokeh.set_log_level(\"info\");\n    },\n    \n    function(Bokeh) {\n      \n    },\n    function(Bokeh) {\n      console.log(\"Bokeh: injecting CSS: https://cdn.pydata.org/bokeh/release/bokeh-0.12.13.min.css\");\n      Bokeh.embed.inject_css(\"https://cdn.pydata.org/bokeh/release/bokeh-0.12.13.min.css\");\n      console.log(\"Bokeh: injecting CSS: https://cdn.pydata.org/bokeh/release/bokeh-widgets-0.12.13.min.css\");\n      Bokeh.embed.inject_css(\"https://cdn.pydata.org/bokeh/release/bokeh-widgets-0.12.13.min.css\");\n      console.log(\"Bokeh: injecting CSS: https://cdn.pydata.org/bokeh/release/bokeh-tables-0.12.13.min.css\");\n      Bokeh.embed.inject_css(\"https://cdn.pydata.org/bokeh/release/bokeh-tables-0.12.13.min.css\");\n    }\n  ];\n\n  function run_inline_js() {\n    \n    if ((root.Bokeh !== undefined) || (force === true)) {\n      for (var i = 0; i < inline_js.length; i++) {\n        inline_js[i].call(root, root.Bokeh);\n      }if (force === true) {\n        display_loaded();\n      }} else if (Date.now() < root._bokeh_timeout) {\n      setTimeout(run_inline_js, 100);\n    } else if (!root._bokeh_failed_load) {\n      console.log(\"Bokeh: BokehJS failed to load within specified timeout.\");\n      root._bokeh_failed_load = true;\n    } else if (force !== true) {\n      var cell = $(document.getElementById(\"66d2fcd1-23ed-4932-809e-5fb96da224fd\")).parents('.cell').data().cell;\n      cell.output_area.append_execute_result(NB_LOAD_WARNING)\n    }\n\n  }\n\n  if (root._bokeh_is_loading === 0) {\n    console.log(\"Bokeh: BokehJS loaded, going straight to plotting\");\n    run_inline_js();\n  } else {\n    load_libs(js_urls, function() {\n      console.log(\"Bokeh: BokehJS plotting callback run at\", now());\n      run_inline_js();\n    });\n  }\n}(window));"
     },
     "metadata": {},
     "output_type": "display_data"
    }
   ],
   "source": [
    "from bokeh.io import output_notebook, show\n",
    "from bokeh.models import ColumnDataSource, HoverTool, LabelSet\n",
    "from bokeh.plotting import figure\n",
    "output_notebook()"
   ]
  },
  {
   "cell_type": "code",
   "execution_count": 78,
   "metadata": {},
   "outputs": [
    {
     "data": {
      "text/html": [
       "\n",
       "<div class=\"bk-root\">\n",
       "    <div class=\"bk-plotdiv\" id=\"8732f5ed-a0af-44bb-9672-792327d46ff5\"></div>\n",
       "</div>"
      ]
     },
     "metadata": {},
     "output_type": "display_data"
    },
    {
     "data": {
      "application/javascript": [
       "(function(root) {\n",
       "  function embed_document(root) {\n",
       "    \n",
       "  var docs_json = {\"1b9a5963-1dfc-4312-971e-30909a91f37e\":{\"roots\":{\"references\":[{\"attributes\":{\"bottom_units\":\"screen\",\"fill_alpha\":{\"value\":0.5},\"fill_color\":{\"value\":\"lightgrey\"},\"left_units\":\"screen\",\"level\":\"overlay\",\"line_alpha\":{\"value\":1.0},\"line_color\":{\"value\":\"black\"},\"line_dash\":[4,4],\"line_width\":{\"value\":2},\"plot\":null,\"render_mode\":\"css\",\"right_units\":\"screen\",\"top_units\":\"screen\"},\"id\":\"898e87b5-c010-4f9c-88c3-4517856fa3de\",\"type\":\"BoxAnnotation\"},{\"attributes\":{\"data_source\":{\"id\":\"262cebca-63f1-4b89-954e-55df292517f3\",\"type\":\"ColumnDataSource\"},\"glyph\":{\"id\":\"78a4b3f9-f96a-4823-869a-78389b8f6c64\",\"type\":\"Circle\"},\"hover_glyph\":null,\"muted_glyph\":null,\"nonselection_glyph\":{\"id\":\"03561c0f-faf2-4c5c-8762-7c6aaec1bac0\",\"type\":\"Circle\"},\"selection_glyph\":null,\"view\":{\"id\":\"cd857c35-fa05-4802-9dd1-e2c4960198c5\",\"type\":\"CDSView\"}},\"id\":\"940b2042-5417-4148-8269-b9bd54fe6818\",\"type\":\"GlyphRenderer\"},{\"attributes\":{},\"id\":\"89bc3604-7b53-4080-b3ae-c134747b730b\",\"type\":\"LinearScale\"},{\"attributes\":{\"axis_label\":\"Days since FOMC meeting (weekends excluded)\",\"formatter\":{\"id\":\"a38fcca7-1de9-4c7d-8dba-5a461e957429\",\"type\":\"BasicTickFormatter\"},\"plot\":{\"id\":\"72a9dea8-827b-450c-94dd-a6f3db0f3a1a\",\"subtype\":\"Figure\",\"type\":\"Plot\"},\"ticker\":{\"id\":\"69aacc1f-50d4-4a71-a58a-68813ff9df48\",\"type\":\"BasicTicker\"}},\"id\":\"7ed9fa5a-963b-4c44-8a1e-c67e1a1f8aa1\",\"type\":\"LinearAxis\"},{\"attributes\":{},\"id\":\"c5c8782d-0df4-4f3c-b8e1-0e8242982bd3\",\"type\":\"HelpTool\"},{\"attributes\":{},\"id\":\"20451179-40e8-4c93-b486-d46f2f47a013\",\"type\":\"ResetTool\"},{\"attributes\":{\"overlay\":{\"id\":\"898e87b5-c010-4f9c-88c3-4517856fa3de\",\"type\":\"BoxAnnotation\"}},\"id\":\"a726e91a-3850-4fb0-a99e-7d5bab127864\",\"type\":\"BoxZoomTool\"},{\"attributes\":{},\"id\":\"a0cccb6d-d71c-4986-a326-fe0eb5efc61b\",\"type\":\"LinearScale\"},{\"attributes\":{\"plot\":{\"id\":\"72a9dea8-827b-450c-94dd-a6f3db0f3a1a\",\"subtype\":\"Figure\",\"type\":\"Plot\"},\"source\":{\"id\":\"262cebca-63f1-4b89-954e-55df292517f3\",\"type\":\"ColumnDataSource\"},\"text\":{\"field\":\"fomc_day\"},\"text_font_size\":{\"value\":\"10pt\"},\"x\":{\"field\":\"fomc_day\"},\"x_offset\":{\"value\":5},\"y\":{\"field\":\"5-day_mean\"},\"y_offset\":{\"value\":-10}},\"id\":\"52fe0354-df1f-4b7e-a7d5-689cbbf3de71\",\"type\":\"LabelSet\"},{\"attributes\":{\"callback\":null},\"id\":\"c47e7f9b-c09e-4100-bf35-492d3503fad0\",\"type\":\"DataRange1d\"},{\"attributes\":{},\"id\":\"79a5a498-6d03-4551-b730-c38485213135\",\"type\":\"WheelZoomTool\"},{\"attributes\":{},\"id\":\"40b25700-2e7c-4463-a8be-8556178350e1\",\"type\":\"SaveTool\"},{\"attributes\":{\"active_drag\":\"auto\",\"active_inspect\":\"auto\",\"active_scroll\":\"auto\",\"active_tap\":\"auto\",\"tools\":[{\"id\":\"71326eac-a48a-4252-96f4-5f4489179a8a\",\"type\":\"PanTool\"},{\"id\":\"79a5a498-6d03-4551-b730-c38485213135\",\"type\":\"WheelZoomTool\"},{\"id\":\"a726e91a-3850-4fb0-a99e-7d5bab127864\",\"type\":\"BoxZoomTool\"},{\"id\":\"40b25700-2e7c-4463-a8be-8556178350e1\",\"type\":\"SaveTool\"},{\"id\":\"20451179-40e8-4c93-b486-d46f2f47a013\",\"type\":\"ResetTool\"},{\"id\":\"c5c8782d-0df4-4f3c-b8e1-0e8242982bd3\",\"type\":\"HelpTool\"},{\"id\":\"8478afe4-86cc-41e8-b892-a0b651b5e5ad\",\"type\":\"HoverTool\"}]},\"id\":\"f77a5fcb-edf8-474e-a94f-5cb4fdb180d9\",\"type\":\"Toolbar\"},{\"attributes\":{\"source\":{\"id\":\"262cebca-63f1-4b89-954e-55df292517f3\",\"type\":\"ColumnDataSource\"}},\"id\":\"9d3f4b02-2b69-4276-a54a-e2e21cd13eb1\",\"type\":\"CDSView\"},{\"attributes\":{\"fill_alpha\":{\"value\":0.1},\"fill_color\":{\"value\":\"#1f77b4\"},\"line_alpha\":{\"value\":0.1},\"line_color\":{\"value\":\"#1f77b4\"},\"x\":{\"field\":\"fomc_day\"},\"y\":{\"field\":\"5-day_mean\"}},\"id\":\"03561c0f-faf2-4c5c-8762-7c6aaec1bac0\",\"type\":\"Circle\"},{\"attributes\":{\"source\":{\"id\":\"262cebca-63f1-4b89-954e-55df292517f3\",\"type\":\"ColumnDataSource\"}},\"id\":\"cd857c35-fa05-4802-9dd1-e2c4960198c5\",\"type\":\"CDSView\"},{\"attributes\":{},\"id\":\"0538877b-b35d-4403-b5d0-c9d65f3e94cb\",\"type\":\"BasicTickFormatter\"},{\"attributes\":{},\"id\":\"a38fcca7-1de9-4c7d-8dba-5a461e957429\",\"type\":\"BasicTickFormatter\"},{\"attributes\":{\"callback\":null},\"id\":\"9ca51fc8-ca90-4589-ab94-8e119c74e83e\",\"type\":\"DataRange1d\"},{\"attributes\":{\"fill_color\":{\"value\":\"#1f77b4\"},\"line_color\":{\"value\":\"#1f77b4\"},\"x\":{\"field\":\"fomc_day\"},\"y\":{\"field\":\"5-day_mean\"}},\"id\":\"78a4b3f9-f96a-4823-869a-78389b8f6c64\",\"type\":\"Circle\"},{\"attributes\":{\"line_color\":\"#1f77b4\",\"x\":{\"field\":\"fomc_day\"},\"y\":{\"field\":\"5-day_mean\"}},\"id\":\"bc47a037-19e9-4be3-8173-fbdaf865eb6a\",\"type\":\"Line\"},{\"attributes\":{},\"id\":\"3acefe94-2411-43d4-8b7b-e3229fa78a1a\",\"type\":\"BasicTicker\"},{\"attributes\":{\"axis_label\":\"Avg. 5-day stock return, t to t+4\",\"formatter\":{\"id\":\"0538877b-b35d-4403-b5d0-c9d65f3e94cb\",\"type\":\"BasicTickFormatter\"},\"plot\":{\"id\":\"72a9dea8-827b-450c-94dd-a6f3db0f3a1a\",\"subtype\":\"Figure\",\"type\":\"Plot\"},\"ticker\":{\"id\":\"3acefe94-2411-43d4-8b7b-e3229fa78a1a\",\"type\":\"BasicTicker\"}},\"id\":\"9eb46e8b-918b-4a5b-ac3d-4adc8e0ca24f\",\"type\":\"LinearAxis\"},{\"attributes\":{\"plot\":{\"id\":\"72a9dea8-827b-450c-94dd-a6f3db0f3a1a\",\"subtype\":\"Figure\",\"type\":\"Plot\"},\"ticker\":{\"id\":\"69aacc1f-50d4-4a71-a58a-68813ff9df48\",\"type\":\"BasicTicker\"}},\"id\":\"5d1e3fef-7ebf-438b-b10b-0cb8a5869e44\",\"type\":\"Grid\"},{\"attributes\":{\"line_alpha\":0.1,\"line_color\":\"#1f77b4\",\"x\":{\"field\":\"fomc_day\"},\"y\":{\"field\":\"5-day_mean\"}},\"id\":\"48c63ee5-ca09-492f-b356-ecf3fffe10fc\",\"type\":\"Line\"},{\"attributes\":{\"callback\":null,\"mode\":\"vline\",\"tooltips\":[[\"(x,y)\",\"(@fomc_day, $y{0.00%})\"]]},\"id\":\"8478afe4-86cc-41e8-b892-a0b651b5e5ad\",\"type\":\"HoverTool\"},{\"attributes\":{},\"id\":\"69aacc1f-50d4-4a71-a58a-68813ff9df48\",\"type\":\"BasicTicker\"},{\"attributes\":{},\"id\":\"71326eac-a48a-4252-96f4-5f4489179a8a\",\"type\":\"PanTool\"},{\"attributes\":{\"below\":[{\"id\":\"7ed9fa5a-963b-4c44-8a1e-c67e1a1f8aa1\",\"type\":\"LinearAxis\"}],\"left\":[{\"id\":\"9eb46e8b-918b-4a5b-ac3d-4adc8e0ca24f\",\"type\":\"LinearAxis\"}],\"plot_height\":400,\"plot_width\":800,\"renderers\":[{\"id\":\"7ed9fa5a-963b-4c44-8a1e-c67e1a1f8aa1\",\"type\":\"LinearAxis\"},{\"id\":\"5d1e3fef-7ebf-438b-b10b-0cb8a5869e44\",\"type\":\"Grid\"},{\"id\":\"9eb46e8b-918b-4a5b-ac3d-4adc8e0ca24f\",\"type\":\"LinearAxis\"},{\"id\":\"bd14d89f-0a66-4f59-b7ad-28b9759c5eb3\",\"type\":\"Grid\"},{\"id\":\"898e87b5-c010-4f9c-88c3-4517856fa3de\",\"type\":\"BoxAnnotation\"},{\"id\":\"2acee04c-2ec7-41c2-8a5a-971098cc4961\",\"type\":\"GlyphRenderer\"},{\"id\":\"940b2042-5417-4148-8269-b9bd54fe6818\",\"type\":\"GlyphRenderer\"},{\"id\":\"52fe0354-df1f-4b7e-a7d5-689cbbf3de71\",\"type\":\"LabelSet\"}],\"title\":{\"id\":\"5ffea5b9-3baa-4992-9964-675c5008629c\",\"type\":\"Title\"},\"toolbar\":{\"id\":\"f77a5fcb-edf8-474e-a94f-5cb4fdb180d9\",\"type\":\"Toolbar\"},\"x_range\":{\"id\":\"c47e7f9b-c09e-4100-bf35-492d3503fad0\",\"type\":\"DataRange1d\"},\"x_scale\":{\"id\":\"a0cccb6d-d71c-4986-a326-fe0eb5efc61b\",\"type\":\"LinearScale\"},\"y_range\":{\"id\":\"9ca51fc8-ca90-4589-ab94-8e119c74e83e\",\"type\":\"DataRange1d\"},\"y_scale\":{\"id\":\"89bc3604-7b53-4080-b3ae-c134747b730b\",\"type\":\"LinearScale\"}},\"id\":\"72a9dea8-827b-450c-94dd-a6f3db0f3a1a\",\"subtype\":\"Figure\",\"type\":\"Plot\"},{\"attributes\":{\"data_source\":{\"id\":\"262cebca-63f1-4b89-954e-55df292517f3\",\"type\":\"ColumnDataSource\"},\"glyph\":{\"id\":\"bc47a037-19e9-4be3-8173-fbdaf865eb6a\",\"type\":\"Line\"},\"hover_glyph\":null,\"muted_glyph\":null,\"nonselection_glyph\":{\"id\":\"48c63ee5-ca09-492f-b356-ecf3fffe10fc\",\"type\":\"Line\"},\"selection_glyph\":null,\"view\":{\"id\":\"9d3f4b02-2b69-4276-a54a-e2e21cd13eb1\",\"type\":\"CDSView\"}},\"id\":\"2acee04c-2ec7-41c2-8a5a-971098cc4961\",\"type\":\"GlyphRenderer\"},{\"attributes\":{\"dimension\":1,\"plot\":{\"id\":\"72a9dea8-827b-450c-94dd-a6f3db0f3a1a\",\"subtype\":\"Figure\",\"type\":\"Plot\"},\"ticker\":{\"id\":\"3acefe94-2411-43d4-8b7b-e3229fa78a1a\",\"type\":\"BasicTicker\"}},\"id\":\"bd14d89f-0a66-4f59-b7ad-28b9759c5eb3\",\"type\":\"Grid\"},{\"attributes\":{\"plot\":null,\"text\":\"Stock returns of the FOMC cycle, 1998-2018\"},\"id\":\"5ffea5b9-3baa-4992-9964-675c5008629c\",\"type\":\"Title\"},{\"attributes\":{\"callback\":null,\"column_names\":[\"5-day_count\",\"5-day_mean\",\"5-day_std\",\"5-day_min\",\"5-day_25%\",\"5-day_50%\",\"5-day_75%\",\"5-day_max\",\"close_count\",\"close_mean\",\"close_std\",\"close_min\",\"close_25%\",\"close_50%\",\"close_75%\",\"close_max\",\"fomc_week_count\",\"fomc_week_mean\",\"fomc_week_std\",\"fomc_week_min\",\"fomc_week_25%\",\"fomc_week_50%\",\"fomc_week_75%\",\"fomc_week_max\",\"fomc_day\"],\"data\":{\"5-day_25%\":{\"__ndarray__\":\"kKJNX9Rrg7/Bk/Mzs6yCv+B5tlQOn4C/4eXf0+Bnf7/gtWBOioGBv9AYVHkTxoG/gFwnsvYjgb/RzHR6/Y2Lv6D3Eor7a4u//+WzePgFj78w8ZBPBH6Lv2AsltqIuIi/cG9mGv0whr+gmIoBmZ6Hv38f1SVmLYS/gMJWFCv2gL+AfXeu+aCBv0BwztqQM4C/P6Wdz1szh79B7seQBT2Ev8C3OAKfvIa/gMm+iWY4ib8QSgE6AvmIv2BzqL5PvoG/cGkj08Jmgb+Aj5EnpROAv4DhST1VCn2/QJMVhdpcgL8gQeFNA82AvwASWZiXJoq/QJRM8KXEjr/AHvRzfxSKv8F834vA146/AHdCI/2SgL9fht8JUxF/vwBRHAysyH+/gETBKE9biL8AKsjWY79rv0H5MaN3doC/wDd+BoIkab8=\",\"dtype\":\"float64\",\"shape\":[40]},\"5-day_50%\":{\"__ndarray__\":\"AMc4hgxWYz8A6Mghmd9mPwDWBZyujXI/gG1ar81rcj8AM2HtVSxgPwBmxIrk0XA/ABVAUgEkdT8A8IHBDJBrPwBIPcgGAE8/ABrw3LqZWj8AEJemTlExPwAAOtSpjEW/AJL7ml6LVz8ABP20qKNnPwDUc/8sSGo/AK1yxm0NcT8AvLANDEVwPwDLZ7mNDHU/ANbT5R+hcz8AcyOlo85zPwCg3gqr3Vk/AF45sSfeZD8AfTa1o71jPwLAagz9rW4/gGq7PdESdD8AFSJVIVJ1PwBz6kMGCnA/Abh409iGbj8ARkjRn1hlP/8dA9Ah+Gg/ASYVO0LgZj8A5shSkt9wPwFSG2MmSmE/AGqm4oOXbD8AniHE+jllPwCpobmhuGo/AOgp0JpdaT8BjOaNo1tiPwE/hub/UXA/APdKTlbQaj8=\",\"dtype\":\"float64\",\"shape\":[40]},\"5-day_75%\":{\"__ndarray__\":\"ADLcr4FNjj8gGqB4vXaNPzCOSf3gU5I/0GgwqGpdkT/wPL6Ia6yQP0GLHE/805I/v45mw7i2jz8/gIsFs/eEP8AU1xHNpog/IId60ilQiD8gf4oWkNeGP2AUBwSpcYQ/AYECo9jvij9AC62OVGCLPwEDCjRdQo0/wCJKwCJKkD+A4fwbU5aQP8CFPjpRjpA///KsnjC8jz+B9gBEjWaPPwD8Dsc+3ok/gOXgMU3yiT/AKRbctF2KP8/VYd0oIZA/sWg4vOltkD8Ao4MsDhGQPwCm1+MR/o0/gB5fwdSkjj9fkPCN09iLP//tbhHIKI0/P4Qj2D7ajj/+hCmU8X6OP4BvzZrAv4w/ACEHd/WqiT/gKvBRIBGMP2BDVy0mfIs/ADb+9dCEkD//cUxBgh+LP4C/+zmooIo//zP2fLMViz8=\",\"dtype\":\"float64\",\"shape\":[40]},\"5-day_count\":{\"__ndarray__\":\"AAAAAABAZEAAAAAAAEBkQAAAAAAAQGRAAAAAAABAZEAAAAAAAEBkQAAAAAAAQGRAAAAAAABgZEAAAAAAAEBkQAAAAAAAAGRAAAAAAAAAZEAAAAAAAABkQAAAAAAAAGRAAAAAAAAAZEAAAAAAAOBjQAAAAAAAoGNAAAAAAACgY0AAAAAAAKBjQAAAAAAAoGNAAAAAAACgY0AAAAAAAKBjQAAAAAAAoGNAAAAAAACgY0AAAAAAAIBjQAAAAAAAgGNAAAAAAAAAY0AAAAAAAGBiQAAAAAAAYGJAAAAAAABgYkAAAAAAAABiQAAAAAAAIGFAAAAAAAAAWUAAAAAAAEBTQAAAAAAAQFNAAAAAAABAU0AAAAAAAABOQAAAAAAAAEFAAAAAAAAANUAAAAAAAAA1QAAAAAAAADVAAAAAAAAAMEA=\",\"dtype\":\"float64\",\"shape\":[40]},\"5-day_max\":{\"__ndarray__\":\"TyTWjmaPvT8QEg6lKV+1PwBxeVWutLk/gLo2HeQxtj+QDOOshhq8P3jSIKAW88E/cC+wbactsz/hoJ8mT9ivP6Amm7Xt8bA/wDYoTchisD9Af6jsz0SsP0AjhzAXvqk/v/FHN8lJpD8fdD/JJVuuPx9+esaKcLc/sGsn+1uftj8g+onKPnqzP7EmElg0jro/8B0SVYR4uz/hfYEI+t23PyEngMSk/Kw/0NkTj3GjsT9hevpenvW4P9iOC+b/dMY/QfdMRChkvj/Qdc0CXvm4PyGF61G4HsE/n9SmF+MGtD/BLdbAEletP4Gi6Td0XaY/P5HfD9OQvD+ApcQoNPunPyC22FKwmag/gX826AoXuT/gQIP+B/W6Px8wXQBNj6M/IZgzburwqT+hnMzP66OsPwFX84Nceps/P+T5KVGAmT8=\",\"dtype\":\"float64\",\"shape\":[40]},\"5-day_mean\":{\"__ndarray__\":\"xK1b2xmmPD8R7W77aj1hP8N8ALyn+XU/iYM4msM1bD+VX0/pJZZuPxk2mHw6onU/9S7JQKMdcD/zEWPdqn9Bv61blpwtTEq/GtTD8k/dSL/7JVgtb6Vhv3vgvrMbwmW/Yw1/shXeUL/raPvxa1RXP6FnJ48U6F0/Rje65i6sbz9ixLRBphpsP/EiZcxkxGw/6awX8leKQz/cI/CG7aJRP35KAZ/4JmK/UJOx7jZjQb8Iv34jkE08P34pd3EBWmw/aelz87xJcT91tJ+mHjlxP8C8nbknZmw/bHteSOgRZj9uxppsLfBeP44I/BjaOkc/4XqgowvEK78KSUhXUdrkvq0sBBzjflG/LUdO/AwgRT/mYy6dGmpwP2mCk16Vvms/SX57UBrMbj8AV5oAo9dhP/TfY/55R2U/gGkni2IcZD8=\",\"dtype\":\"float64\",\"shape\":[40]},\"5-day_min\":{\"__ndarray__\":\"iBJBzwSxwb+IUrgJuW3Av5gCQHVCYbC/CH0aVYJVvL+p8frBjwWxv7Afy7VKb7K/z+03ZM/XrL/wp88BknCwv6hvWPuGtbW/pwKHM9wSs7+40eOPxw6xv0cyle6+Eb6/SII51Ostur/AqFnULGq2v1CUeamxirS/Ed7MCsAGuL/h4WCmmcStv7Ty7QXibMK/bN6nuGQIxr8UQW2tvnvGvwR6C+dvtca/Jwm+Psrmvb9QGZVRGZWxvwGkGkCqAbS/T96SJSxWub8/P6bZzWe9v0gBQvDQ2bi/kF49pLILs7/PI0JT7Ve3v7DNFcI4uLG/LzMMLhdxsr9A3PrNpTuwvx+5KWIvFbO/mPf6f8eys7+wPa7seQCjv4AfnwPQe6e/7+J/KXiqoL+gxzfy+Eaev77hZdTUI52/AJUurEIrn78=\",\"dtype\":\"float64\",\"shape\":[40]},\"5-day_std\":{\"__ndarray__\":\"+ufv/KGwmj/WRGvd6G2ZP7Q4aqNgeZg/cGxjonhzmj/rMUHErPWXP5i7xWJFIpk/mo8qDdxTlz/NaX9LnOOWP+cc0vWZHJc//WXJuxTclz8uj6XUiW2WPw8zVhwlxZc/Fwv1q5g9lz8W2f033dKUP984g5gyzJc/LHRXEm8Lmj/xbyiwJgWZP3ljYpF5Jps/IzztwH4Inz+q+bE5OnOdP41Du3jAVp4/Xrt4y8hImz8ORsEy7KSYP8LsuoSx9Jo/MToKmGc6mT9whWYAujmaP7f3sdNgBJg/ypvFtBy5lT8Jhe54j2yVP6K14MrSMJQ/c7ouFXormz/B1++T31eXP4EqB1sWzpU/Mmd5rfASmD914ruUSTSWPzNy8ttUhJE/HeIcY71nmD+G/bKCp5WTPxNj2YK4F5A/HDrGap7bjz8=\",\"dtype\":\"float64\",\"shape\":[40]},\"close_25%\":{\"__ndarray__\":\"XpfuaW+NVUDQmaV+jZ5VQNGn9YGDj1VA5PZ/mW1+VUC3NN8Kho1VQG/Dcd78iFVAYf+bNX1yVUC+NnErWnJVQHEgStI6UVVAalTJyM1zVUAw/rNvoWNVQK/8OdKPTVVAcMxXbn4/VUD7uww51YRVQMplvceCi1VAY/WBw0+RVUAarsTy3ZJVQHctMwJQtlVAaQWQHuKbVUAOk/zKe45VQM8b6iFhbVVAsQO+DfcUVUDK9sa1NhtVQEJBtwRJSlVA0FV7V+teVUAa3s3PlIRVQFzrWJNhjVVAwqnITgPUVUDSwitq/LBVQOK1in9RilVAbo+Xm8tlVUCj61/lkh9VQHj/zN7hP1VAcNd7jHpPVUB7nmU0V4dVQLbWy3pveFVACBHbo9jZVkA/Fla12vlWQCwspjz06VZAcgAM6ixnV0A=\",\"dtype\":\"float64\",\"shape\":[40]},\"close_50%\":{\"__ndarray__\":\"MC0QW6+PWUD4Kl+7p11ZQAqD67cqdVlAjsCUi5WvWUByS2cE9K5ZQGHU9REmc1lAuZMEuEuAWUBCcREpd4xZQEqkb/2kYVlAzMGUyvlkWUCNYyR71FBZQK0wV+heKFlALJTiaY1MWUC0bNaug+FYQJ+WenF90VhAgwbNdFC6WEDPeWWVlO9YQPQewlMD8lhA0fmVc84XWUA/TWq+AxdZQD9Nar4DF1lAZ1d6nS8nWUANlFh1/S9ZQOkAHtfaOVlA+gvQxdVUWUDl8ZinkXFZQOTTF81AlllAkAik/NiUWUCEggvfBpFZQCe/VwrHZ1lAiHNyXppvWUCDh/xCLuRYQI007lah81hAJF8JpMTeWECilx47UplaQOcUHBLiuldArE3TzwrCWUBZ8PH1NHVZQFiX3vQqgVlAQCBvcIStW0A=\",\"dtype\":\"float64\",\"shape\":[40]},\"close_75%\":{\"__ndarray__\":\"ci6DOXtXYUBxCiOkY11hQBRo6lTVb2FA4+RLlp1xYUBzCjTQI11hQJLdiMvyWmFANmMkvcA/YUDVpNRYrE5hQOkWHz6/fmBAFvGW3nBvYEBIN6GUGXxgQJf6zVI/fWBAhMI1sX96YEA+xy7uMi1gQMLBnKh+t19A3b5gmpbzX0Cq/X2WTFZfQNVz7lA2k19A610X2WmCX0CFyh0ImZ5fQHBY4EzIXl9A66cynv5qX0D2M1+f1QdfQMrEVMog/15AUOXD0nlgX0B4zz/JVr5fQOrxuv/Bw19ApNMRxUaXX0AjFaUIIThgQIlc0zA6i2BA7250tPNCXkAdQUNiz2RhQBR6mh/hbGFALfUkl5x/YUDAvzRRz7plQPYpwqvXdFxAxeWezERpZEApFz+apVpkQBz1Eo6ZWGRAj1sLNB2HZkA=\",\"dtype\":\"float64\",\"shape\":[40]},\"close_count\":{\"__ndarray__\":\"AAAAAABAZEAAAAAAAEBkQAAAAAAAQGRAAAAAAABAZEAAAAAAAEBkQAAAAAAAQGRAAAAAAABgZEAAAAAAAEBkQAAAAAAAAGRAAAAAAAAAZEAAAAAAAABkQAAAAAAAAGRAAAAAAAAAZEAAAAAAAOBjQAAAAAAAoGNAAAAAAACgY0AAAAAAAKBjQAAAAAAAoGNAAAAAAACgY0AAAAAAAKBjQAAAAAAAoGNAAAAAAACgY0AAAAAAAIBjQAAAAAAAgGNAAAAAAAAAY0AAAAAAAGBiQAAAAAAAYGJAAAAAAABgYkAAAAAAAABiQAAAAAAAIGFAAAAAAAAAWUAAAAAAAEBTQAAAAAAAQFNAAAAAAABAU0AAAAAAAABOQAAAAAAAAEFAAAAAAAAANUAAAAAAAAA1QAAAAAAAADVAAAAAAAAAMEA=\",\"dtype\":\"float64\",\"shape\":[40]},\"close_max\":{\"__ndarray__\":\"TTLpJAiicUA46l3GwaBxQFIEjLxZonFAoPirrMfWcUC6cREzqbhxQLKQB8KIiHFA8tF6qYSMcUCiGh/7k4dxQIi0xemvJnFAKp9ah7excEArpCclp8FwQKRK0SBuqXBAjpl09v6ncEB26BfMj6ZwQHboF8yPpnBAJMjqUXahcECx+LCL8MlwQAFWokeH/nBAGAf/cfb/cEAYB/9x9v9wQG3vNEiC5XBAd46t2TXWcEChI5E0suhwQLOo4NR1GXFA6eujmnRMcUCKGMoX6RZxQBt1ndsOEHFAGK2Uf5wvcUDuvUYyxkxxQO69RjLGTHFA+sWQj6I9cUCjeVaL3WdxQDTWKU8DYXFAaQ9T2SJ0cUC1/qUroZhxQEpBlokrVW5AXoYTWbpubkB0RQ3MGG5uQOT1om5eY25A0i3WmAm2bkA=\",\"dtype\":\"float64\",\"shape\":[40]},\"close_mean\":{\"__ndarray__\":\"gDqwlSAmXkCoNGOqTCNeQKP/EfD6LV5AV1LiQdQtXkA3L4ZpICpeQBUSc3l5NF5AUz85r+40XkBN+AEkAkBeQAulYJluHF5AxU/pc8AjXkBI3wy7USReQNbt6XMgGV5AZscm7qsSXkDJLsv6zPtdQC+Ikv1CzF1Az+OLdRjSXUCugFKWhNRdQOy5WUJU311AjKNnQwTeXUCWwHmFauxdQH8iKP+pmV1A3JpEkZqbXUDHCedUZoRdQPkOkUiEi11AHkV/3kC9XUA/kOnjjgNeQH8LZdNyDl5ADLRUXIQaXkDwg7dzwTNeQNeXx60WMV5AGMlR8XvHXEA+yBVxPfVdQCovGcPh/F1A7MOIea33XUBOMkKUmPxfQLXiICbmY1xAoFvYTDcDX0B1Ce0NKgpfQLeSr2zjBl9Al3NZ50LgYEA=\",\"dtype\":\"float64\",\"shape\":[40]},\"close_min\":{\"__ndarray__\":\"wSKH1KnfTUC++YnaKMFNQJweB2rg6E1A4XxSPJryTkDXYr9A8/1OQPF/OCn7uU5A7CESbHkyTkAdsNsC6upOQHk/tZSIkE9A2R1afVh0TkAfJX7et/5NQFURbjKqPk9ArxxKgiqHTkCBIpppEClOQJGSONrajE1AgGipZh35TEBkxxuggXJNQBM6noXzq0xAMMSvLUOmTUC8F0YXJ9dOQJ9HJXLKDE9AWMMQ/FlfT0CceRbd6g9PQGurJy07CE9AyWU+SJgVTkAbQSrFjkZNQOa85TvPuk5AIf4noAXQTkB5YRe35JdOQI4/nWf2ME1Abxq3pcn3TEBs7epGuapNQDWdiylScUxAyHwfksp5TEDwuH2WNCdMQC5nALkOnVBAas5IJNTfUkAJ9Qb1s/hSQKmKqfQTJFNAVrRsv7JXU0A=\",\"dtype\":\"float64\",\"shape\":[40]},\"close_std\":{\"__ndarray__\":\"OR6Stl1SSUBAb/2OSlZJQCVsE8ejXElAHtELjNhtSUDZ1j3vfl1JQBMgdJLiYUlA5N0NPEdUSUA9N7aDt0dJQDEE/3F6PklA/Xs5pKA7SUAQd9n3NjhJQET4c0MhOElAjqT1tx4uSUDiQ01MYy9JQCibhDvRFklA+vVZBKZCSUDqavqEj01JQMk3m3nJWElAB//mbSBKSUDqhqLmqFBJQHKp5Yodz0hAf/eqrefXSEBH6EetQ+JIQHcD3VVf/0hAF/2YVjopSUD+JtAQSGpJQKrY8Dojb0lA468BoZ13SUCiouBldblJQL0RVazdN0pAuqZMqteFR0A3CaKo7B1KQPdPWMCsKkpA5pJueO5YSkCHmhVWzlpMQJEmv9xRqEZA6SANGZ/PSEDZbpXBGrNIQFIS0gKPdEhAmGUkglI5SkA=\",\"dtype\":\"float64\",\"shape\":[40]},\"fomc_day\":[-6,-5,-4,-3,-2,-1,0,1,2,3,4,5,6,7,8,9,10,11,12,13,14,15,16,17,18,19,20,21,22,23,24,25,26,27,28,29,30,31,32,33],\"fomc_week_25%\":{\"__ndarray__\":\"AAAAAAAA8L8AAAAAAADwvwAAAAAAAPC/AAAAAAAA8L8AAAAAAADwvwAAAAAAAAAAAAAAAAAAAAAAAAAAAAAAAAAAAAAAAAAAAAAAAAAAAAAAAAAAAADwPwAAAAAAAPA/AAAAAAAA8D8AAAAAAADwPwAAAAAAAPA/AAAAAAAAAEAAAAAAAAAAQAAAAAAAAABAAAAAAAAAAEAAAAAAAAAAQAAAAAAAAAhAAAAAAAAACEAAAAAAAAAIQAAAAAAAAAhAAAAAAAAACEAAAAAAAAAQQAAAAAAAABBAAAAAAAAAEEAAAAAAAAAQQAAAAAAAABBAAAAAAAAAFEAAAAAAAAAUQAAAAAAAABRAAAAAAAAAFEAAAAAAAAAUQAAAAAAAABhAAAAAAAAAGEAAAAAAAAAYQAAAAAAAABhAAAAAAAAAGEA=\",\"dtype\":\"float64\",\"shape\":[40]},\"fomc_week_50%\":{\"__ndarray__\":\"AAAAAAAA8L8AAAAAAADwvwAAAAAAAPC/AAAAAAAA8L8AAAAAAADwvwAAAAAAAAAAAAAAAAAAAAAAAAAAAAAAAAAAAAAAAAAAAAAAAAAAAAAAAAAAAADwPwAAAAAAAPA/AAAAAAAA8D8AAAAAAADwPwAAAAAAAPA/AAAAAAAAAEAAAAAAAAAAQAAAAAAAAABAAAAAAAAAAEAAAAAAAAAAQAAAAAAAAAhAAAAAAAAACEAAAAAAAAAIQAAAAAAAAAhAAAAAAAAACEAAAAAAAAAQQAAAAAAAABBAAAAAAAAAEEAAAAAAAAAQQAAAAAAAABBAAAAAAAAAFEAAAAAAAAAUQAAAAAAAABRAAAAAAAAAFEAAAAAAAAAUQAAAAAAAABhAAAAAAAAAGEAAAAAAAAAYQAAAAAAAABhAAAAAAAAAGEA=\",\"dtype\":\"float64\",\"shape\":[40]},\"fomc_week_75%\":{\"__ndarray__\":\"AAAAAAAA8L8AAAAAAADwvwAAAAAAAPC/AAAAAAAA8L8AAAAAAADwvwAAAAAAAAAAAAAAAAAAAAAAAAAAAAAAAAAAAAAAAAAAAAAAAAAAAAAAAAAAAADwPwAAAAAAAPA/AAAAAAAA8D8AAAAAAADwPwAAAAAAAPA/AAAAAAAAAEAAAAAAAAAAQAAAAAAAAABAAAAAAAAAAEAAAAAAAAAAQAAAAAAAAAhAAAAAAAAACEAAAAAAAAAIQAAAAAAAAAhAAAAAAAAACEAAAAAAAAAQQAAAAAAAABBAAAAAAAAAEEAAAAAAAAAQQAAAAAAAABBAAAAAAAAAFEAAAAAAAAAUQAAAAAAAABRAAAAAAAAAFEAAAAAAAAAUQAAAAAAAABhAAAAAAAAAGEAAAAAAAAAYQAAAAAAAABhAAAAAAAAAGEA=\",\"dtype\":\"float64\",\"shape\":[40]},\"fomc_week_count\":{\"__ndarray__\":\"AAAAAABAZEAAAAAAAEBkQAAAAAAAQGRAAAAAAABAZEAAAAAAAEBkQAAAAAAAQGRAAAAAAABgZEAAAAAAAEBkQAAAAAAAAGRAAAAAAAAAZEAAAAAAAABkQAAAAAAAAGRAAAAAAAAAZEAAAAAAAOBjQAAAAAAAoGNAAAAAAACgY0AAAAAAAKBjQAAAAAAAoGNAAAAAAACgY0AAAAAAAKBjQAAAAAAAoGNAAAAAAACgY0AAAAAAAIBjQAAAAAAAgGNAAAAAAAAAY0AAAAAAAGBiQAAAAAAAYGJAAAAAAABgYkAAAAAAAABiQAAAAAAAIGFAAAAAAAAAWUAAAAAAAEBTQAAAAAAAQFNAAAAAAABAU0AAAAAAAABOQAAAAAAAAEFAAAAAAAAANUAAAAAAAAA1QAAAAAAAADVAAAAAAAAAMEA=\",\"dtype\":\"float64\",\"shape\":[40]},\"fomc_week_max\":{\"__ndarray__\":\"AAAAAAAA8L8AAAAAAADwvwAAAAAAAPC/AAAAAAAA8L8AAAAAAADwvwAAAAAAAAAAAAAAAAAAAAAAAAAAAAAAAAAAAAAAAAAAAAAAAAAAAAAAAAAAAADwPwAAAAAAAPA/AAAAAAAA8D8AAAAAAADwPwAAAAAAAPA/AAAAAAAAAEAAAAAAAAAAQAAAAAAAAABAAAAAAAAAAEAAAAAAAAAAQAAAAAAAAAhAAAAAAAAACEAAAAAAAAAIQAAAAAAAAAhAAAAAAAAACEAAAAAAAAAQQAAAAAAAABBAAAAAAAAAEEAAAAAAAAAQQAAAAAAAABBAAAAAAAAAFEAAAAAAAAAUQAAAAAAAABRAAAAAAAAAFEAAAAAAAAAUQAAAAAAAABhAAAAAAAAAGEAAAAAAAAAYQAAAAAAAABhAAAAAAAAAGEA=\",\"dtype\":\"float64\",\"shape\":[40]},\"fomc_week_mean\":{\"__ndarray__\":\"AAAAAAAA8L8AAAAAAADwvwAAAAAAAPC/AAAAAAAA8L8AAAAAAADwvwAAAAAAAAAAAAAAAAAAAAAAAAAAAAAAAAAAAAAAAAAAAAAAAAAAAAAAAAAAAADwPwAAAAAAAPA/AAAAAAAA8D8AAAAAAADwPwAAAAAAAPA/AAAAAAAAAEAAAAAAAAAAQAAAAAAAAABAAAAAAAAAAEAAAAAAAAAAQAAAAAAAAAhAAAAAAAAACEAAAAAAAAAIQAAAAAAAAAhAAAAAAAAACEAAAAAAAAAQQAAAAAAAABBAAAAAAAAAEEAAAAAAAAAQQAAAAAAAABBAAAAAAAAAFEAAAAAAAAAUQAAAAAAAABRAAAAAAAAAFEAAAAAAAAAUQAAAAAAAABhAAAAAAAAAGEAAAAAAAAAYQAAAAAAAABhAAAAAAAAAGEA=\",\"dtype\":\"float64\",\"shape\":[40]},\"fomc_week_min\":{\"__ndarray__\":\"AAAAAAAA8L8AAAAAAADwvwAAAAAAAPC/AAAAAAAA8L8AAAAAAADwvwAAAAAAAAAAAAAAAAAAAAAAAAAAAAAAAAAAAAAAAAAAAAAAAAAAAAAAAAAAAADwPwAAAAAAAPA/AAAAAAAA8D8AAAAAAADwPwAAAAAAAPA/AAAAAAAAAEAAAAAAAAAAQAAAAAAAAABAAAAAAAAAAEAAAAAAAAAAQAAAAAAAAAhAAAAAAAAACEAAAAAAAAAIQAAAAAAAAAhAAAAAAAAACEAAAAAAAAAQQAAAAAAAABBAAAAAAAAAEEAAAAAAAAAQQAAAAAAAABBAAAAAAAAAFEAAAAAAAAAUQAAAAAAAABRAAAAAAAAAFEAAAAAAAAAUQAAAAAAAABhAAAAAAAAAGEAAAAAAAAAYQAAAAAAAABhAAAAAAAAAGEA=\",\"dtype\":\"float64\",\"shape\":[40]},\"fomc_week_std\":{\"__ndarray__\":\"AAAAAAAAAAAAAAAAAAAAAAAAAAAAAAAAAAAAAAAAAAAAAAAAAAAAAAAAAAAAAAAAAAAAAAAAAAAAAAAAAAAAAAAAAAAAAAAAAAAAAAAAAAAAAAAAAAAAAAAAAAAAAAAAAAAAAAAAAAAAAAAAAAAAAAAAAAAAAAAAAAAAAAAAAAAAAAAAAAAAAAAAAAAAAAAAAAAAAAAAAAAAAAAAAAAAAAAAAAAAAAAAAAAAAAAAAAAAAAAAAAAAAAAAAAAAAAAAAAAAAAAAAAAAAAAAAAAAAAAAAAAAAAAAAAAAAAAAAAAAAAAAAAAAAAAAAAAAAAAAAAAAAAAAAAAAAAAAAAAAAAAAAAAAAAAAAAAAAAAAAAAAAAAAAAAAAAAAAAAAAAAAAAAAAAAAAAAAAAAAAAAAAAAAAAAAAAAAAAAAAAAAAAA=\",\"dtype\":\"float64\",\"shape\":[40]}}},\"id\":\"262cebca-63f1-4b89-954e-55df292517f3\",\"type\":\"ColumnDataSource\"}],\"root_ids\":[\"72a9dea8-827b-450c-94dd-a6f3db0f3a1a\"]},\"title\":\"Bokeh Application\",\"version\":\"0.12.13\"}};\n",
       "  var render_items = [{\"docid\":\"1b9a5963-1dfc-4312-971e-30909a91f37e\",\"elementid\":\"8732f5ed-a0af-44bb-9672-792327d46ff5\",\"modelid\":\"72a9dea8-827b-450c-94dd-a6f3db0f3a1a\"}];\n",
       "  root.Bokeh.embed.embed_items_notebook(docs_json, render_items);\n",
       "\n",
       "  }\n",
       "  if (root.Bokeh !== undefined) {\n",
       "    embed_document(root);\n",
       "  } else {\n",
       "    var attempts = 0;\n",
       "    var timer = setInterval(function(root) {\n",
       "      if (root.Bokeh !== undefined) {\n",
       "        embed_document(root);\n",
       "        clearInterval(timer);\n",
       "      }\n",
       "      attempts++;\n",
       "      if (attempts > 100) {\n",
       "        console.log(\"Bokeh: ERROR: Unable to run BokehJS code because BokehJS library is missing\")\n",
       "        clearInterval(timer);\n",
       "      }\n",
       "    }, 10, root)\n",
       "  }\n",
       "})(window);"
      ],
      "application/vnd.bokehjs_exec.v0+json": ""
     },
     "metadata": {
      "application/vnd.bokehjs_exec.v0+json": {
       "id": "72a9dea8-827b-450c-94dd-a6f3db0f3a1a"
      }
     },
     "output_type": "display_data"
    }
   ],
   "source": [
    "source = ColumnDataSource(group)\n",
    "\n",
    "hover = HoverTool(tooltips=[(\"(x,y)\", \"(@fomc_day, $y{0.00%})\")], mode='vline')\n",
    "p = figure(title='Stock returns of the FOMC cycle, 1998-2018', plot_width=800, plot_height=400) \n",
    "p.add_tools(hover)\n",
    "\n",
    "p.line(x='fomc_day', y='5-day_mean', source=source)\n",
    "p.circle(x='fomc_day', y='5-day_mean', source=source)\n",
    "p.xaxis.axis_label = 'Days since FOMC meeting (weekends excluded)'\n",
    "p.yaxis.axis_label = 'Avg. 5-day stock return, t to t+4'\n",
    "labels = LabelSet(x='fomc_day', y='5-day_mean', text='fomc_day', source=source,\n",
    "                  x_offset=5, y_offset=-10, text_font_size='10pt')\n",
    "p.add_layout(labels)\n",
    "\n",
    "show(p)"
   ]
  },
  {
   "cell_type": "code",
   "execution_count": null,
   "metadata": {},
   "outputs": [],
   "source": []
  }
 ],
 "metadata": {
  "kernelspec": {
   "display_name": "Python 3",
   "language": "python",
   "name": "python3"
  },
  "language_info": {
   "codemirror_mode": {
    "name": "ipython",
    "version": 3
   },
   "file_extension": ".py",
   "mimetype": "text/x-python",
   "name": "python",
   "nbconvert_exporter": "python",
   "pygments_lexer": "ipython3",
   "version": "3.6.4"
  }
 },
 "nbformat": 4,
 "nbformat_minor": 2
}
