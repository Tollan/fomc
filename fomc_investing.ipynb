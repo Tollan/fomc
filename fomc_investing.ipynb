{
 "cells": [
  {
   "cell_type": "markdown",
   "metadata": {},
   "source": [
    "## Stock Returns of the FOMC Cycle\n",
    "\n",
    "Preamble: Scientific findings are by definition reproducible by controlled experiment. This notebook validates results in this paper: http://faculty.haas.berkeley.edu/vissing/cycle_paper_cieslak_morse_vissingjorgensen.pdf\n",
    "\n",
    "#### 1. Web Scrape FOMC Meeting End Dates"
   ]
  },
  {
   "cell_type": "code",
   "execution_count": 2,
   "metadata": {},
   "outputs": [],
   "source": [
    "import requests\n",
    "from lxml import html\n",
    "from datetime import *\n",
    "import pandas as pd"
   ]
  },
  {
   "cell_type": "markdown",
   "metadata": {},
   "source": [
    "Recent Meetings: https://www.federalreserve.gov/monetarypolicy/fomccalendars.htm"
   ]
  },
  {
   "cell_type": "code",
   "execution_count": 2,
   "metadata": {},
   "outputs": [],
   "source": [
    "url = 'https://www.federalreserve.gov/monetarypolicy/fomccalendars.htm'\n",
    "fomccalendars = html.fromstring(requests.get(url).content)"
   ]
  },
  {
   "cell_type": "code",
   "execution_count": 3,
   "metadata": {},
   "outputs": [],
   "source": [
    "fomc_dates = []\n",
    "for panel in fomccalendars.xpath(\".//div[@class='panel panel-default']\"):\n",
    "    year = int(panel.xpath(\".//div[@class='panel-heading']//text()\")[0][0:4])\n",
    "    months = panel.xpath(\".//div[contains(@class, 'month')]//text()\")\n",
    "    dates = panel.xpath(\".//div[contains(@class, 'date')]/text()\")\n",
    "    m = [ datetime.strptime(month.split('/')[-1][0:3], '%b').month for month in months ]\n",
    "    d = [ int(day.split('-')[-1].rstrip('*')) for day in dates if not \"unscheduled\" in day ]\n",
    "    fomc_dates += [ datetime(year, m, d).date() for m,d in zip(m, d) ]    "
   ]
  },
  {
   "cell_type": "markdown",
   "metadata": {},
   "source": [
    "Historical Meetings: https://www.federalreserve.gov/monetarypolicy/fomc_historical_year.htm"
   ]
  },
  {
   "cell_type": "code",
   "execution_count": 118,
   "metadata": {},
   "outputs": [],
   "source": [
    "url = 'https://www.federalreserve.gov/monetarypolicy/fomc_historical_year.htm'\n",
    "fomc_historical_year = html.fromstring(requests.get(url).content)\n",
    "fomchistorical = [ 'https://www.federalreserve.gov'+href for href in fomc_historical_year.xpath(\".//div[@id='article']//a/@href\") ]"
   ]
  },
  {
   "cell_type": "code",
   "execution_count": 5,
   "metadata": {},
   "outputs": [],
   "source": [
    "dates = []\n",
    "for url in fomchistorical:\n",
    "    historical = html.fromstring(requests.get(url).content)\n",
    "    dates += historical.xpath(\".//h5/text()\")"
   ]
  },
  {
   "cell_type": "code",
   "execution_count": 6,
   "metadata": {},
   "outputs": [],
   "source": [
    "meetings = [ meeting.split() for meeting in dates if \"Meeting\" in meeting ]\n",
    "years = [ int(meeting[-1]) for meeting in meetings]\n",
    "months = [ datetime.strptime(date[0], '%B').month if len(date)==5 else datetime.strptime(date[0], '%B').month+1 for date in meetings ]\n",
    "days = [ int(date[1].split('-')[-1]) if len(date)==5 else 1 for date in meetings ]\n",
    "fomc_dates += [ datetime(y, m, d).date() for y,m,d in zip(years, months, days) ]"
   ]
  },
  {
   "cell_type": "code",
   "execution_count": 13,
   "metadata": {},
   "outputs": [],
   "source": [
    "fomc_dates.sort()\n",
    "fomc_dates.remove(datetime(2003, 9, 15).date())\n",
    "fomc_df = pd.DataFrame(fomc_dates, columns=['fomc_date'], dtype='datetime64[ns]')\n",
    "fomc_df.to_csv('fomc_dates.csv', index=False)"
   ]
  },
  {
   "cell_type": "markdown",
   "metadata": {},
   "source": [
    "#### 2. Calculate FOMC Calendar"
   ]
  },
  {
   "cell_type": "code",
   "execution_count": 82,
   "metadata": {},
   "outputs": [],
   "source": [
    "fomc_load = pd.read_csv('fomc_dates.csv', parse_dates=[0], infer_datetime_format=True)\n",
    "fomc_dates = [ timestamp.date() for timestamp in fomc_load['fomc_date'].tolist() ] "
   ]
  },
  {
   "cell_type": "code",
   "execution_count": null,
   "metadata": {},
   "outputs": [],
   "source": [
    "from bisect import *\n",
    "import numpy as np"
   ]
  },
  {
   "cell_type": "code",
   "execution_count": 19,
   "metadata": {},
   "outputs": [],
   "source": [
    "calendar = pd.bdate_range(min(fomc_dates), max(fomc_dates))\n",
    "last_fomc = [ fomc_dates[bisect_right(fomc_dates, date.date())-1] for date in calendar ]\n",
    "next_fomc = [ fomc_dates[bisect_left(fomc_dates, date.date())] for date in calendar ]\n",
    "days_since = [ np.busday_count(last_fomc[d], calendar[d]) for d in range(len(calendar)) ]\n",
    "days_before = [ -np.busday_count(calendar[d], next_fomc[d]) for d in range(len(calendar)) ]\n",
    "fomc_day = [ days_before[d] if days_before[d] >= -6 else days_since[d] for d in range(len(calendar)) ]\n",
    "fomc_week = [ (fomc_day[d] + 1) // 5 for d in range(len(calendar))]"
   ]
  },
  {
   "cell_type": "code",
   "execution_count": 63,
   "metadata": {},
   "outputs": [],
   "source": [
    "fomc_calendar = pd.DataFrame(data={'fomc_day': fomc_day, 'fomc_week': fomc_week}, index=calendar)\n",
    "fomc_calendar.index.name = 'date'\n",
    "fomc_calendar.to_csv('fomc_calendar.csv')"
   ]
  },
  {
   "cell_type": "markdown",
   "metadata": {},
   "source": [
    "#### 3. Calculate 5-Day Returns"
   ]
  },
  {
   "cell_type": "code",
   "execution_count": 3,
   "metadata": {},
   "outputs": [],
   "source": [
    "fomc_calendar = pd.read_csv('fomc_calendar.csv', index_col=0, parse_dates=[0], infer_datetime_format=True)"
   ]
  },
  {
   "cell_type": "markdown",
   "metadata": {},
   "source": [
    "Stocks Daily: http://mba.tuck.dartmouth.edu/pages/faculty/ken.french/Data_Library/f-f_factors.html"
   ]
  },
  {
   "cell_type": "code",
   "execution_count": 4,
   "metadata": {},
   "outputs": [],
   "source": [
    "url = 'http://mba.tuck.dartmouth.edu/pages/faculty/ken.french/ftp/F-F_Research_Data_Factors_daily_CSV.zip'\n",
    "factors = pd.read_csv(url, index_col=0, engine='python', skiprows=4, skipfooter=2, parse_dates=[0], infer_datetime_format=True, compression='zip') "
   ]
  },
  {
   "cell_type": "code",
   "execution_count": 113,
   "metadata": {},
   "outputs": [],
   "source": [
    "market = factors.drop(['SMB', 'HML', 'RF'], 1).asfreq(freq='B', fill_value=0)\n",
    "market['bus_week'] = [ ((market['Mkt-RF'][i:i+5]/100+1).prod()-1)*100 for i in range(len(market)) ] \n",
    "fomc_final = fomc_calendar.join(market).drop(['Mkt-RF'], 1).dropna()"
   ]
  },
  {
   "cell_type": "code",
   "execution_count": 114,
   "metadata": {},
   "outputs": [],
   "source": [
    "fomc_final.to_csv('fomc_final.csv')"
   ]
  },
  {
   "cell_type": "markdown",
   "metadata": {},
   "source": [
    "#### 4. Plot Figure 1"
   ]
  },
  {
   "cell_type": "code",
   "execution_count": 97,
   "metadata": {},
   "outputs": [],
   "source": [
    "fomc_final = pd.read_csv('fomc_final.csv', index_col=0, parse_dates=[0], infer_datetime_format=True)"
   ]
  },
  {
   "cell_type": "code",
   "execution_count": 115,
   "metadata": {},
   "outputs": [],
   "source": [
    "cycle = fomc_final['1994':]\n",
    "fomc = cycle[cycle['fomc_day'] < 34]\n",
    "group = fomc.groupby('fomc_day')"
   ]
  },
  {
   "cell_type": "code",
   "execution_count": 105,
   "metadata": {},
   "outputs": [
    {
     "data": {
      "text/html": [
       "\n",
       "    <div class=\"bk-root\">\n",
       "        <a href=\"https://bokeh.pydata.org\" target=\"_blank\" class=\"bk-logo bk-logo-small bk-logo-notebook\"></a>\n",
       "        <span id=\"f5f74c1a-0b32-473d-af94-e8a02336bbec\">Loading BokehJS ...</span>\n",
       "    </div>"
      ]
     },
     "metadata": {},
     "output_type": "display_data"
    },
    {
     "data": {
      "application/javascript": [
       "\n",
       "(function(root) {\n",
       "  function now() {\n",
       "    return new Date();\n",
       "  }\n",
       "\n",
       "  var force = true;\n",
       "\n",
       "  if (typeof (root._bokeh_onload_callbacks) === \"undefined\" || force === true) {\n",
       "    root._bokeh_onload_callbacks = [];\n",
       "    root._bokeh_is_loading = undefined;\n",
       "  }\n",
       "\n",
       "  var JS_MIME_TYPE = 'application/javascript';\n",
       "  var HTML_MIME_TYPE = 'text/html';\n",
       "  var EXEC_MIME_TYPE = 'application/vnd.bokehjs_exec.v0+json';\n",
       "  var CLASS_NAME = 'output_bokeh rendered_html';\n",
       "\n",
       "  /**\n",
       "   * Render data to the DOM node\n",
       "   */\n",
       "  function render(props, node) {\n",
       "    var script = document.createElement(\"script\");\n",
       "    node.appendChild(script);\n",
       "  }\n",
       "\n",
       "  /**\n",
       "   * Handle when an output is cleared or removed\n",
       "   */\n",
       "  function handleClearOutput(event, handle) {\n",
       "    var cell = handle.cell;\n",
       "\n",
       "    var id = cell.output_area._bokeh_element_id;\n",
       "    var server_id = cell.output_area._bokeh_server_id;\n",
       "    // Clean up Bokeh references\n",
       "    if (id !== undefined) {\n",
       "      Bokeh.index[id].model.document.clear();\n",
       "      delete Bokeh.index[id];\n",
       "    }\n",
       "\n",
       "    if (server_id !== undefined) {\n",
       "      // Clean up Bokeh references\n",
       "      var cmd = \"from bokeh.io.state import curstate; print(curstate().uuid_to_server['\" + server_id + \"'].get_sessions()[0].document.roots[0]._id)\";\n",
       "      cell.notebook.kernel.execute(cmd, {\n",
       "        iopub: {\n",
       "          output: function(msg) {\n",
       "            var element_id = msg.content.text.trim();\n",
       "            Bokeh.index[element_id].model.document.clear();\n",
       "            delete Bokeh.index[element_id];\n",
       "          }\n",
       "        }\n",
       "      });\n",
       "      // Destroy server and session\n",
       "      var cmd = \"import bokeh.io.notebook as ion; ion.destroy_server('\" + server_id + \"')\";\n",
       "      cell.notebook.kernel.execute(cmd);\n",
       "    }\n",
       "  }\n",
       "\n",
       "  /**\n",
       "   * Handle when a new output is added\n",
       "   */\n",
       "  function handleAddOutput(event, handle) {\n",
       "    var output_area = handle.output_area;\n",
       "    var output = handle.output;\n",
       "\n",
       "    // limit handleAddOutput to display_data with EXEC_MIME_TYPE content only\n",
       "    if ((output.output_type != \"display_data\") || (!output.data.hasOwnProperty(EXEC_MIME_TYPE))) {\n",
       "      return\n",
       "    }\n",
       "\n",
       "    var toinsert = output_area.element.find(\".\" + CLASS_NAME.split(' ')[0]);\n",
       "\n",
       "    if (output.metadata[EXEC_MIME_TYPE][\"id\"] !== undefined) {\n",
       "      toinsert[0].firstChild.textContent = output.data[JS_MIME_TYPE];\n",
       "      // store reference to embed id on output_area\n",
       "      output_area._bokeh_element_id = output.metadata[EXEC_MIME_TYPE][\"id\"];\n",
       "    }\n",
       "    if (output.metadata[EXEC_MIME_TYPE][\"server_id\"] !== undefined) {\n",
       "      var bk_div = document.createElement(\"div\");\n",
       "      bk_div.innerHTML = output.data[HTML_MIME_TYPE];\n",
       "      var script_attrs = bk_div.children[0].attributes;\n",
       "      for (var i = 0; i < script_attrs.length; i++) {\n",
       "        toinsert[0].firstChild.setAttribute(script_attrs[i].name, script_attrs[i].value);\n",
       "      }\n",
       "      // store reference to server id on output_area\n",
       "      output_area._bokeh_server_id = output.metadata[EXEC_MIME_TYPE][\"server_id\"];\n",
       "    }\n",
       "  }\n",
       "\n",
       "  function register_renderer(events, OutputArea) {\n",
       "\n",
       "    function append_mime(data, metadata, element) {\n",
       "      // create a DOM node to render to\n",
       "      var toinsert = this.create_output_subarea(\n",
       "        metadata,\n",
       "        CLASS_NAME,\n",
       "        EXEC_MIME_TYPE\n",
       "      );\n",
       "      this.keyboard_manager.register_events(toinsert);\n",
       "      // Render to node\n",
       "      var props = {data: data, metadata: metadata[EXEC_MIME_TYPE]};\n",
       "      render(props, toinsert[0]);\n",
       "      element.append(toinsert);\n",
       "      return toinsert\n",
       "    }\n",
       "\n",
       "    /* Handle when an output is cleared or removed */\n",
       "    events.on('clear_output.CodeCell', handleClearOutput);\n",
       "    events.on('delete.Cell', handleClearOutput);\n",
       "\n",
       "    /* Handle when a new output is added */\n",
       "    events.on('output_added.OutputArea', handleAddOutput);\n",
       "\n",
       "    /**\n",
       "     * Register the mime type and append_mime function with output_area\n",
       "     */\n",
       "    OutputArea.prototype.register_mime_type(EXEC_MIME_TYPE, append_mime, {\n",
       "      /* Is output safe? */\n",
       "      safe: true,\n",
       "      /* Index of renderer in `output_area.display_order` */\n",
       "      index: 0\n",
       "    });\n",
       "  }\n",
       "\n",
       "  // register the mime type if in Jupyter Notebook environment and previously unregistered\n",
       "  if (root.Jupyter !== undefined) {\n",
       "    var events = require('base/js/events');\n",
       "    var OutputArea = require('notebook/js/outputarea').OutputArea;\n",
       "\n",
       "    if (OutputArea.prototype.mime_types().indexOf(EXEC_MIME_TYPE) == -1) {\n",
       "      register_renderer(events, OutputArea);\n",
       "    }\n",
       "  }\n",
       "\n",
       "  \n",
       "  if (typeof (root._bokeh_timeout) === \"undefined\" || force === true) {\n",
       "    root._bokeh_timeout = Date.now() + 5000;\n",
       "    root._bokeh_failed_load = false;\n",
       "  }\n",
       "\n",
       "  var NB_LOAD_WARNING = {'data': {'text/html':\n",
       "     \"<div style='background-color: #fdd'>\\n\"+\n",
       "     \"<p>\\n\"+\n",
       "     \"BokehJS does not appear to have successfully loaded. If loading BokehJS from CDN, this \\n\"+\n",
       "     \"may be due to a slow or bad network connection. Possible fixes:\\n\"+\n",
       "     \"</p>\\n\"+\n",
       "     \"<ul>\\n\"+\n",
       "     \"<li>re-rerun `output_notebook()` to attempt to load from CDN again, or</li>\\n\"+\n",
       "     \"<li>use INLINE resources instead, as so:</li>\\n\"+\n",
       "     \"</ul>\\n\"+\n",
       "     \"<code>\\n\"+\n",
       "     \"from bokeh.resources import INLINE\\n\"+\n",
       "     \"output_notebook(resources=INLINE)\\n\"+\n",
       "     \"</code>\\n\"+\n",
       "     \"</div>\"}};\n",
       "\n",
       "  function display_loaded() {\n",
       "    var el = document.getElementById(\"f5f74c1a-0b32-473d-af94-e8a02336bbec\");\n",
       "    if (el != null) {\n",
       "      el.textContent = \"BokehJS is loading...\";\n",
       "    }\n",
       "    if (root.Bokeh !== undefined) {\n",
       "      if (el != null) {\n",
       "        el.textContent = \"BokehJS \" + root.Bokeh.version + \" successfully loaded.\";\n",
       "      }\n",
       "    } else if (Date.now() < root._bokeh_timeout) {\n",
       "      setTimeout(display_loaded, 100)\n",
       "    }\n",
       "  }\n",
       "\n",
       "\n",
       "  function run_callbacks() {\n",
       "    try {\n",
       "      root._bokeh_onload_callbacks.forEach(function(callback) { callback() });\n",
       "    }\n",
       "    finally {\n",
       "      delete root._bokeh_onload_callbacks\n",
       "    }\n",
       "    console.info(\"Bokeh: all callbacks have finished\");\n",
       "  }\n",
       "\n",
       "  function load_libs(js_urls, callback) {\n",
       "    root._bokeh_onload_callbacks.push(callback);\n",
       "    if (root._bokeh_is_loading > 0) {\n",
       "      console.log(\"Bokeh: BokehJS is being loaded, scheduling callback at\", now());\n",
       "      return null;\n",
       "    }\n",
       "    if (js_urls == null || js_urls.length === 0) {\n",
       "      run_callbacks();\n",
       "      return null;\n",
       "    }\n",
       "    console.log(\"Bokeh: BokehJS not loaded, scheduling load and callback at\", now());\n",
       "    root._bokeh_is_loading = js_urls.length;\n",
       "    for (var i = 0; i < js_urls.length; i++) {\n",
       "      var url = js_urls[i];\n",
       "      var s = document.createElement('script');\n",
       "      s.src = url;\n",
       "      s.async = false;\n",
       "      s.onreadystatechange = s.onload = function() {\n",
       "        root._bokeh_is_loading--;\n",
       "        if (root._bokeh_is_loading === 0) {\n",
       "          console.log(\"Bokeh: all BokehJS libraries loaded\");\n",
       "          run_callbacks()\n",
       "        }\n",
       "      };\n",
       "      s.onerror = function() {\n",
       "        console.warn(\"failed to load library \" + url);\n",
       "      };\n",
       "      console.log(\"Bokeh: injecting script tag for BokehJS library: \", url);\n",
       "      document.getElementsByTagName(\"head\")[0].appendChild(s);\n",
       "    }\n",
       "  };var element = document.getElementById(\"f5f74c1a-0b32-473d-af94-e8a02336bbec\");\n",
       "  if (element == null) {\n",
       "    console.log(\"Bokeh: ERROR: autoload.js configured with elementid 'f5f74c1a-0b32-473d-af94-e8a02336bbec' but no matching script tag was found. \")\n",
       "    return false;\n",
       "  }\n",
       "\n",
       "  var js_urls = [\"https://cdn.pydata.org/bokeh/release/bokeh-0.12.13.min.js\", \"https://cdn.pydata.org/bokeh/release/bokeh-widgets-0.12.13.min.js\", \"https://cdn.pydata.org/bokeh/release/bokeh-tables-0.12.13.min.js\", \"https://cdn.pydata.org/bokeh/release/bokeh-gl-0.12.13.min.js\"];\n",
       "\n",
       "  var inline_js = [\n",
       "    function(Bokeh) {\n",
       "      Bokeh.set_log_level(\"info\");\n",
       "    },\n",
       "    \n",
       "    function(Bokeh) {\n",
       "      \n",
       "    },\n",
       "    function(Bokeh) {\n",
       "      console.log(\"Bokeh: injecting CSS: https://cdn.pydata.org/bokeh/release/bokeh-0.12.13.min.css\");\n",
       "      Bokeh.embed.inject_css(\"https://cdn.pydata.org/bokeh/release/bokeh-0.12.13.min.css\");\n",
       "      console.log(\"Bokeh: injecting CSS: https://cdn.pydata.org/bokeh/release/bokeh-widgets-0.12.13.min.css\");\n",
       "      Bokeh.embed.inject_css(\"https://cdn.pydata.org/bokeh/release/bokeh-widgets-0.12.13.min.css\");\n",
       "      console.log(\"Bokeh: injecting CSS: https://cdn.pydata.org/bokeh/release/bokeh-tables-0.12.13.min.css\");\n",
       "      Bokeh.embed.inject_css(\"https://cdn.pydata.org/bokeh/release/bokeh-tables-0.12.13.min.css\");\n",
       "    }\n",
       "  ];\n",
       "\n",
       "  function run_inline_js() {\n",
       "    \n",
       "    if ((root.Bokeh !== undefined) || (force === true)) {\n",
       "      for (var i = 0; i < inline_js.length; i++) {\n",
       "        inline_js[i].call(root, root.Bokeh);\n",
       "      }if (force === true) {\n",
       "        display_loaded();\n",
       "      }} else if (Date.now() < root._bokeh_timeout) {\n",
       "      setTimeout(run_inline_js, 100);\n",
       "    } else if (!root._bokeh_failed_load) {\n",
       "      console.log(\"Bokeh: BokehJS failed to load within specified timeout.\");\n",
       "      root._bokeh_failed_load = true;\n",
       "    } else if (force !== true) {\n",
       "      var cell = $(document.getElementById(\"f5f74c1a-0b32-473d-af94-e8a02336bbec\")).parents('.cell').data().cell;\n",
       "      cell.output_area.append_execute_result(NB_LOAD_WARNING)\n",
       "    }\n",
       "\n",
       "  }\n",
       "\n",
       "  if (root._bokeh_is_loading === 0) {\n",
       "    console.log(\"Bokeh: BokehJS loaded, going straight to plotting\");\n",
       "    run_inline_js();\n",
       "  } else {\n",
       "    load_libs(js_urls, function() {\n",
       "      console.log(\"Bokeh: BokehJS plotting callback run at\", now());\n",
       "      run_inline_js();\n",
       "    });\n",
       "  }\n",
       "}(window));"
      ],
      "application/vnd.bokehjs_load.v0+json": "\n(function(root) {\n  function now() {\n    return new Date();\n  }\n\n  var force = true;\n\n  if (typeof (root._bokeh_onload_callbacks) === \"undefined\" || force === true) {\n    root._bokeh_onload_callbacks = [];\n    root._bokeh_is_loading = undefined;\n  }\n\n  \n\n  \n  if (typeof (root._bokeh_timeout) === \"undefined\" || force === true) {\n    root._bokeh_timeout = Date.now() + 5000;\n    root._bokeh_failed_load = false;\n  }\n\n  var NB_LOAD_WARNING = {'data': {'text/html':\n     \"<div style='background-color: #fdd'>\\n\"+\n     \"<p>\\n\"+\n     \"BokehJS does not appear to have successfully loaded. If loading BokehJS from CDN, this \\n\"+\n     \"may be due to a slow or bad network connection. Possible fixes:\\n\"+\n     \"</p>\\n\"+\n     \"<ul>\\n\"+\n     \"<li>re-rerun `output_notebook()` to attempt to load from CDN again, or</li>\\n\"+\n     \"<li>use INLINE resources instead, as so:</li>\\n\"+\n     \"</ul>\\n\"+\n     \"<code>\\n\"+\n     \"from bokeh.resources import INLINE\\n\"+\n     \"output_notebook(resources=INLINE)\\n\"+\n     \"</code>\\n\"+\n     \"</div>\"}};\n\n  function display_loaded() {\n    var el = document.getElementById(\"f5f74c1a-0b32-473d-af94-e8a02336bbec\");\n    if (el != null) {\n      el.textContent = \"BokehJS is loading...\";\n    }\n    if (root.Bokeh !== undefined) {\n      if (el != null) {\n        el.textContent = \"BokehJS \" + root.Bokeh.version + \" successfully loaded.\";\n      }\n    } else if (Date.now() < root._bokeh_timeout) {\n      setTimeout(display_loaded, 100)\n    }\n  }\n\n\n  function run_callbacks() {\n    try {\n      root._bokeh_onload_callbacks.forEach(function(callback) { callback() });\n    }\n    finally {\n      delete root._bokeh_onload_callbacks\n    }\n    console.info(\"Bokeh: all callbacks have finished\");\n  }\n\n  function load_libs(js_urls, callback) {\n    root._bokeh_onload_callbacks.push(callback);\n    if (root._bokeh_is_loading > 0) {\n      console.log(\"Bokeh: BokehJS is being loaded, scheduling callback at\", now());\n      return null;\n    }\n    if (js_urls == null || js_urls.length === 0) {\n      run_callbacks();\n      return null;\n    }\n    console.log(\"Bokeh: BokehJS not loaded, scheduling load and callback at\", now());\n    root._bokeh_is_loading = js_urls.length;\n    for (var i = 0; i < js_urls.length; i++) {\n      var url = js_urls[i];\n      var s = document.createElement('script');\n      s.src = url;\n      s.async = false;\n      s.onreadystatechange = s.onload = function() {\n        root._bokeh_is_loading--;\n        if (root._bokeh_is_loading === 0) {\n          console.log(\"Bokeh: all BokehJS libraries loaded\");\n          run_callbacks()\n        }\n      };\n      s.onerror = function() {\n        console.warn(\"failed to load library \" + url);\n      };\n      console.log(\"Bokeh: injecting script tag for BokehJS library: \", url);\n      document.getElementsByTagName(\"head\")[0].appendChild(s);\n    }\n  };var element = document.getElementById(\"f5f74c1a-0b32-473d-af94-e8a02336bbec\");\n  if (element == null) {\n    console.log(\"Bokeh: ERROR: autoload.js configured with elementid 'f5f74c1a-0b32-473d-af94-e8a02336bbec' but no matching script tag was found. \")\n    return false;\n  }\n\n  var js_urls = [\"https://cdn.pydata.org/bokeh/release/bokeh-0.12.13.min.js\", \"https://cdn.pydata.org/bokeh/release/bokeh-widgets-0.12.13.min.js\", \"https://cdn.pydata.org/bokeh/release/bokeh-tables-0.12.13.min.js\", \"https://cdn.pydata.org/bokeh/release/bokeh-gl-0.12.13.min.js\"];\n\n  var inline_js = [\n    function(Bokeh) {\n      Bokeh.set_log_level(\"info\");\n    },\n    \n    function(Bokeh) {\n      \n    },\n    function(Bokeh) {\n      console.log(\"Bokeh: injecting CSS: https://cdn.pydata.org/bokeh/release/bokeh-0.12.13.min.css\");\n      Bokeh.embed.inject_css(\"https://cdn.pydata.org/bokeh/release/bokeh-0.12.13.min.css\");\n      console.log(\"Bokeh: injecting CSS: https://cdn.pydata.org/bokeh/release/bokeh-widgets-0.12.13.min.css\");\n      Bokeh.embed.inject_css(\"https://cdn.pydata.org/bokeh/release/bokeh-widgets-0.12.13.min.css\");\n      console.log(\"Bokeh: injecting CSS: https://cdn.pydata.org/bokeh/release/bokeh-tables-0.12.13.min.css\");\n      Bokeh.embed.inject_css(\"https://cdn.pydata.org/bokeh/release/bokeh-tables-0.12.13.min.css\");\n    }\n  ];\n\n  function run_inline_js() {\n    \n    if ((root.Bokeh !== undefined) || (force === true)) {\n      for (var i = 0; i < inline_js.length; i++) {\n        inline_js[i].call(root, root.Bokeh);\n      }if (force === true) {\n        display_loaded();\n      }} else if (Date.now() < root._bokeh_timeout) {\n      setTimeout(run_inline_js, 100);\n    } else if (!root._bokeh_failed_load) {\n      console.log(\"Bokeh: BokehJS failed to load within specified timeout.\");\n      root._bokeh_failed_load = true;\n    } else if (force !== true) {\n      var cell = $(document.getElementById(\"f5f74c1a-0b32-473d-af94-e8a02336bbec\")).parents('.cell').data().cell;\n      cell.output_area.append_execute_result(NB_LOAD_WARNING)\n    }\n\n  }\n\n  if (root._bokeh_is_loading === 0) {\n    console.log(\"Bokeh: BokehJS loaded, going straight to plotting\");\n    run_inline_js();\n  } else {\n    load_libs(js_urls, function() {\n      console.log(\"Bokeh: BokehJS plotting callback run at\", now());\n      run_inline_js();\n    });\n  }\n}(window));"
     },
     "metadata": {},
     "output_type": "display_data"
    }
   ],
   "source": [
    "from bokeh.io import output_notebook, show\n",
    "from bokeh.models import ColumnDataSource, HoverTool, LabelSet\n",
    "from bokeh.plotting import figure\n",
    "output_notebook()"
   ]
  },
  {
   "cell_type": "code",
   "execution_count": 120,
   "metadata": {},
   "outputs": [
    {
     "data": {
      "text/html": [
       "\n",
       "<div class=\"bk-root\">\n",
       "    <div class=\"bk-plotdiv\" id=\"e68a3f23-f81a-45a2-9a30-f2b91488aaf6\"></div>\n",
       "</div>"
      ]
     },
     "metadata": {},
     "output_type": "display_data"
    },
    {
     "data": {
      "application/javascript": [
       "(function(root) {\n",
       "  function embed_document(root) {\n",
       "    \n",
       "  var docs_json = {\"686147d2-7018-43d7-80c1-9fbb24e6e9e4\":{\"roots\":{\"references\":[{\"attributes\":{\"source\":{\"id\":\"c794cb4e-7c17-4f52-8e5d-ff2c7e34faa2\",\"type\":\"ColumnDataSource\"}},\"id\":\"159479aa-4bc8-411d-90f9-681bb534f9c5\",\"type\":\"CDSView\"},{\"attributes\":{\"fill_alpha\":{\"value\":0.1},\"fill_color\":{\"value\":\"#1f77b4\"},\"line_alpha\":{\"value\":0.1},\"line_color\":{\"value\":\"#1f77b4\"},\"x\":{\"field\":\"fomc_day\"},\"y\":{\"field\":\"bus_week_mean\"}},\"id\":\"e867ff60-72dd-442b-a339-f9c2de790e89\",\"type\":\"Circle\"},{\"attributes\":{\"plot\":{\"id\":\"0dbc2179-35a5-4f68-af01-7590327b24a6\",\"subtype\":\"Figure\",\"type\":\"Plot\"},\"source\":{\"id\":\"c794cb4e-7c17-4f52-8e5d-ff2c7e34faa2\",\"type\":\"ColumnDataSource\"},\"text\":{\"field\":\"fomc_day\"},\"text_font_size\":{\"value\":\"10pt\"},\"x\":{\"field\":\"fomc_day\"},\"x_offset\":{\"value\":5},\"y\":{\"field\":\"bus_week_mean\"},\"y_offset\":{\"value\":-10}},\"id\":\"c46ed5af-b9be-43b0-8d3a-c1677fb4ff29\",\"type\":\"LabelSet\"},{\"attributes\":{\"callback\":null,\"column_names\":[\"bus_week_count\",\"bus_week_mean\",\"bus_week_std\",\"bus_week_min\",\"bus_week_25%\",\"bus_week_50%\",\"bus_week_75%\",\"bus_week_max\",\"fomc_week_count\",\"fomc_week_mean\",\"fomc_week_std\",\"fomc_week_min\",\"fomc_week_25%\",\"fomc_week_50%\",\"fomc_week_75%\",\"fomc_week_max\",\"fomc_day\"],\"data\":{\"bus_week_25%\":{\"__ndarray__\":\"EdjffF+G8L9U87Kbcdbwv63IjLSQw+e/RFI2HOKe6L/O5EDzrbbov45nVdp4buu/kUBKhMsa6r90MKvKcjr2v4sWKQl7WPe/Zpr21DJy+b+wpv04Sjn3v3woLzffgvW/rz4/bBUe77++JZfhXlzvvy5W1zTn3uy/8NfOISAc5b/Qbo0yKRTpv7TI4TxL3ue/hFTZ5+pq77+0zgunjB7wv/K6UogfJPG/gjBjhSE09L+45tdnV+jzv4ID3wSPPfC/oBGos9hB6b8wcn/3E9vlv4SYLs2VxOS/xP7UqnXJ5L/EQqWs11nrv5SzIeSKXfO/4yTIDgYZ9r8MnOUUnI/4v9Lch3cDBfe/hfugvn0J8b8uYaVCpNrjv+5oA7aL2OK/pgtS3VdA479kRUBMFT7XvzT2Kl0S5uO/WQIcACo76b8=\",\"dtype\":\"float64\",\"shape\":[40]},\"bus_week_50%\":{\"__ndarray__\":\"MM4rCT/2zj/gbJqR8tbMP5jufT4+sNk/EHQ5Sxz+2D8geDYYFxHUP4DIimUW490/KII8n3qk2T8I9xTk8ZXWP6ADgMrfH8w/oOLmWNzB0j9gAWtq7JuzPwDXj82SHr8/6BuS7p8o1z+gwgQ9V+TVPwAvaDXsZcg/ALsLVqYA1D/wsqWId9zWP8BtYnPD5Nc/GCl52M5B4T9oli8VG3biP2C7f1eetsw/oIxAwp2RyT8QKsClSk3NP1AHZfJ9ltQ/aIVNqjCV3T8w/TLQT2HZPyB0dI6499c/kBmuwAa00z9ACmj6YHjQP3BaZneibc8/MHLTvLA91j+AfRYVGFPWP2CKH2OPLtE/AL+huhclyz/wJdeC0u/YP4DnYWmG7OM/kPsXyyuN3j/Ad7TUcOLYP5gbpBgn1+M/2FqZHDGAyj8=\",\"dtype\":\"float64\",\"shape\":[40]},\"bus_week_75%\":{\"__ndarray__\":\"qQrtGaBb9z9Rzpw6qPH0P7SzGMfal/g/bhOtEd5m+z9jPs11TjT7P8NNTULv5Pw/snLVNaUB+j8ECBTkwBz0P2TbFD28mfM/J5HEIgrA8z/CY1nQi6zzP3h4JKabsPE/N4hLqOLb9T8a4lE7r5f2P6Vlq0481vU//P9RbNe++D8oq/OEVGL7PxQn3Ij6Xvo/sPXv6dTP9z8AMnBmPWn5PxxZxHJ1S/U/TFDsyi9I9j9+Pu+4MMP1P3bHu2a6RPk/+ItrDmzg+T8wXB4KjIX7P3hoDDDqb/o/eNecOG75+D8wI3ieUw33P9BiJ0rhjPU/SGY0f0P49j9M7ZyH/Dv5P9yRBmEt8PY/au7o8Wwz8z/OI9dx/Yf3P3qkHWQQJ/k/8BpBN/Iu+j/40kifThH1P+DlorQu5vg/9xQ5yqKH+z8=\",\"dtype\":\"float64\",\"shape\":[40]},\"bus_week_count\":{\"__ndarray__\":\"AAAAAABAaEAAAAAAAEBoQAAAAAAAQGhAAAAAAABAaEAAAAAAAEBoQAAAAAAAQGhAAAAAAABAaEAAAAAAAEBoQAAAAAAAAGhAAAAAAAAAaEAAAAAAAABoQAAAAAAAAGhAAAAAAAAAaEAAAAAAAMBnQAAAAAAAgGdAAAAAAACgZ0AAAAAAAKBnQAAAAAAAoGdAAAAAAACgZ0AAAAAAAKBnQAAAAAAAoGdAAAAAAACgZ0AAAAAAAIBnQAAAAAAAgGdAAAAAAADAZkAAAAAAAKBlQAAAAAAAoGVAAAAAAACgZUAAAAAAAEBlQAAAAAAAQGRAAAAAAADAXkAAAAAAAMBXQAAAAAAAQFdAAAAAAADAVkAAAAAAAMBRQAAAAAAAAEZAAAAAAAAAO0AAAAAAAAA7QAAAAAAAADtAAAAAAAAANEA=\",\"dtype\":\"float64\",\"shape\":[40]},\"bus_week_max\":{\"__ndarray__\":\"ZiQpeqGaJkC8LB6/uwIgQJaFFnQ9DyRAQruZOIGZIEDyw2YCnJElQDqh5hlfKC1AKXXquY9KIEBtu5RxRq8XQMOUyBk9HhpAEjAMfdujGUAsv8jUXnYVQA+UIfeKJxRASOVdf472EEA078GivY4XQJ8/zX+QqSJAqi8mJeOKIkBw3uNA4rshQA4sBb4+0yNA7j0C3NGdJECyQNExNHYiQBwdxhZJjRhAf8rGUnDuGkDIvCGNB98kQPuFSqlJPTJAusodj2o5KUCsNG1QafIhQOh7VENZTilAJguFrqMuHkAh7iJB2WMYQM7NX3n+ChNApfnmfA0pJ0AUlWF2ABoeQJI4breFXBRAWSuFJ/06JEBLzVl7M2UlQKY9O0ql0Q9AuzW/1nXtFUCnGBglQWkXQLpF5CJiHAtAmPdtafV1CUA=\",\"dtype\":\"float64\",\"shape\":[40]},\"bus_week_mean\":{\"__ndarray__\":\"b6IJNlA7hb+y86UXBsWqPxTdwXlYs9k/Wks59H6n1D/CMAB+o2TYP3uNIEApP+A/f76qPo7m1z8lPpCWGcGvv5oA2Yc86MC/k9U1dp4Yvr+U5Wv9wNjJv9eu5+UEa8+/64BNVjx9or8eoWycFLfFP/Rl//zDvsc/QYa7Z/j91j/ToqKb0QTYP6kK/xeK29Y/fd5k4MNluT/b0AeCTxXFP/8P8L4wa72/3wEXZO4as7/lOFxWqzGpPwFgc4Z5LtM/ta5kvFoN2j8knMGTRSLdP/q0LPOf8Nw/cp85Ku8W0z/rbiWIpEbOP6mtzivo8as/AKRlsvApl7/a6YP7U4eeP0gXr7cw9Lq/bnNbq/+ohr/7kKDCun7cP5KssFkqIOE/EbxDBnyu2z8oFBa8dIPWP9U4trjaXtQ/4rZy45NC0j8=\",\"dtype\":\"float64\",\"shape\":[40]},\"bus_week_min\":{\"__ndarray__\":\"kPpMYFOHLMABgyjMha0rwARJ3HepQxzA2wqUanMmJ8Ds0/tUkhsbwAlIOKCIbRzAccHPIVeTGcDyKVIRbuwewOIcfaxhuCDADG6bgUemIMCgt12fhWQYwKfHnT4SVinA+EF2D8pFJcB4r+5saYshwK8nScghUCDAHl1s7ko2I8BqlLEnGjkWwB07TxTI6y3AHksBCwytMcBChdGYMm0ywJ/GaKr8/jHAUg0N8ogMJsA0ChXsHx8bwF/tSzgqZB7ActelEMhpJMAP88JN4O4nwF7mTOTMliPAdlf8FXIDHsCOipTwMikiwHEmwMelHhzAgXxTUsD8HMA85/F/zooYwEao5qj56R7AcLb/ebXBH8Cmyopz3IUPwOdTvCj+6RDAfX8B0LY1DcAO4ABGxvUIwC2PDgj7IAvAaSBY8K9YBsA=\",\"dtype\":\"float64\",\"shape\":[40]},\"bus_week_std\":{\"__ndarray__\":\"inwTORkFBECTTBQ7OA8DQPKMhbOIsQFAz7ibZvy6A0AaJwfA/+MBQIozXA7LAgNAONpB+4JqAkCF+XJcMTECQIX+UVBm4gJA3AYhSW/1AkDWFjP1CcEBQN8roHHrDgNAJBKDiQslAkC+TWw3Ax4AQPTeXzAVFwJAVfjTJTS2A0DvI8AWBvICQDQco6afaARAd/pu4rM3B0Cy0Wt0u3AGQG+lGs9CPQdAmnUZS30XBUBwHlu/W0EDQHYXz+atygRAJkPN7E+cA0B/tSRHifEDQF6Qcm1lYQJAxcgYaX1QAEDhn3S9K0kAQM7BHw/bjP8/HrvlUBvuBECJCCpWvhYDQC+sa8xXSwFARG9BcQzuAUA+tSp8v1AAQA9wieAOk/k/j8fFAmWWAkB1bI8xmhMAQFH0nRsdwPw/KQ6HDgfy+z8=\",\"dtype\":\"float64\",\"shape\":[40]},\"fomc_day\":[-6,-5,-4,-3,-2,-1,0,1,2,3,4,5,6,7,8,9,10,11,12,13,14,15,16,17,18,19,20,21,22,23,24,25,26,27,28,29,30,31,32,33],\"fomc_week_25%\":{\"__ndarray__\":\"AAAAAAAA8L8AAAAAAADwvwAAAAAAAPC/AAAAAAAA8L8AAAAAAADwvwAAAAAAAAAAAAAAAAAAAAAAAAAAAAAAAAAAAAAAAAAAAAAAAAAAAAAAAAAAAADwPwAAAAAAAPA/AAAAAAAA8D8AAAAAAADwPwAAAAAAAPA/AAAAAAAAAEAAAAAAAAAAQAAAAAAAAABAAAAAAAAAAEAAAAAAAAAAQAAAAAAAAAhAAAAAAAAACEAAAAAAAAAIQAAAAAAAAAhAAAAAAAAACEAAAAAAAAAQQAAAAAAAABBAAAAAAAAAEEAAAAAAAAAQQAAAAAAAABBAAAAAAAAAFEAAAAAAAAAUQAAAAAAAABRAAAAAAAAAFEAAAAAAAAAUQAAAAAAAABhAAAAAAAAAGEAAAAAAAAAYQAAAAAAAABhAAAAAAAAAGEA=\",\"dtype\":\"float64\",\"shape\":[40]},\"fomc_week_50%\":{\"__ndarray__\":\"AAAAAAAA8L8AAAAAAADwvwAAAAAAAPC/AAAAAAAA8L8AAAAAAADwvwAAAAAAAAAAAAAAAAAAAAAAAAAAAAAAAAAAAAAAAAAAAAAAAAAAAAAAAAAAAADwPwAAAAAAAPA/AAAAAAAA8D8AAAAAAADwPwAAAAAAAPA/AAAAAAAAAEAAAAAAAAAAQAAAAAAAAABAAAAAAAAAAEAAAAAAAAAAQAAAAAAAAAhAAAAAAAAACEAAAAAAAAAIQAAAAAAAAAhAAAAAAAAACEAAAAAAAAAQQAAAAAAAABBAAAAAAAAAEEAAAAAAAAAQQAAAAAAAABBAAAAAAAAAFEAAAAAAAAAUQAAAAAAAABRAAAAAAAAAFEAAAAAAAAAUQAAAAAAAABhAAAAAAAAAGEAAAAAAAAAYQAAAAAAAABhAAAAAAAAAGEA=\",\"dtype\":\"float64\",\"shape\":[40]},\"fomc_week_75%\":{\"__ndarray__\":\"AAAAAAAA8L8AAAAAAADwvwAAAAAAAPC/AAAAAAAA8L8AAAAAAADwvwAAAAAAAAAAAAAAAAAAAAAAAAAAAAAAAAAAAAAAAAAAAAAAAAAAAAAAAAAAAADwPwAAAAAAAPA/AAAAAAAA8D8AAAAAAADwPwAAAAAAAPA/AAAAAAAAAEAAAAAAAAAAQAAAAAAAAABAAAAAAAAAAEAAAAAAAAAAQAAAAAAAAAhAAAAAAAAACEAAAAAAAAAIQAAAAAAAAAhAAAAAAAAACEAAAAAAAAAQQAAAAAAAABBAAAAAAAAAEEAAAAAAAAAQQAAAAAAAABBAAAAAAAAAFEAAAAAAAAAUQAAAAAAAABRAAAAAAAAAFEAAAAAAAAAUQAAAAAAAABhAAAAAAAAAGEAAAAAAAAAYQAAAAAAAABhAAAAAAAAAGEA=\",\"dtype\":\"float64\",\"shape\":[40]},\"fomc_week_count\":{\"__ndarray__\":\"AAAAAABAaEAAAAAAAEBoQAAAAAAAQGhAAAAAAABAaEAAAAAAAEBoQAAAAAAAQGhAAAAAAABAaEAAAAAAAEBoQAAAAAAAAGhAAAAAAAAAaEAAAAAAAABoQAAAAAAAAGhAAAAAAAAAaEAAAAAAAMBnQAAAAAAAgGdAAAAAAACgZ0AAAAAAAKBnQAAAAAAAoGdAAAAAAACgZ0AAAAAAAKBnQAAAAAAAoGdAAAAAAACgZ0AAAAAAAIBnQAAAAAAAgGdAAAAAAADAZkAAAAAAAKBlQAAAAAAAoGVAAAAAAACgZUAAAAAAAEBlQAAAAAAAQGRAAAAAAADAXkAAAAAAAMBXQAAAAAAAQFdAAAAAAADAVkAAAAAAAMBRQAAAAAAAAEZAAAAAAAAAO0AAAAAAAAA7QAAAAAAAADtAAAAAAAAANEA=\",\"dtype\":\"float64\",\"shape\":[40]},\"fomc_week_max\":{\"__ndarray__\":\"AAAAAAAA8L8AAAAAAADwvwAAAAAAAPC/AAAAAAAA8L8AAAAAAADwvwAAAAAAAAAAAAAAAAAAAAAAAAAAAAAAAAAAAAAAAAAAAAAAAAAAAAAAAAAAAADwPwAAAAAAAPA/AAAAAAAA8D8AAAAAAADwPwAAAAAAAPA/AAAAAAAAAEAAAAAAAAAAQAAAAAAAAABAAAAAAAAAAEAAAAAAAAAAQAAAAAAAAAhAAAAAAAAACEAAAAAAAAAIQAAAAAAAAAhAAAAAAAAACEAAAAAAAAAQQAAAAAAAABBAAAAAAAAAEEAAAAAAAAAQQAAAAAAAABBAAAAAAAAAFEAAAAAAAAAUQAAAAAAAABRAAAAAAAAAFEAAAAAAAAAUQAAAAAAAABhAAAAAAAAAGEAAAAAAAAAYQAAAAAAAABhAAAAAAAAAGEA=\",\"dtype\":\"float64\",\"shape\":[40]},\"fomc_week_mean\":{\"__ndarray__\":\"AAAAAAAA8L8AAAAAAADwvwAAAAAAAPC/AAAAAAAA8L8AAAAAAADwvwAAAAAAAAAAAAAAAAAAAAAAAAAAAAAAAAAAAAAAAAAAAAAAAAAAAAAAAAAAAADwPwAAAAAAAPA/AAAAAAAA8D8AAAAAAADwPwAAAAAAAPA/AAAAAAAAAEAAAAAAAAAAQAAAAAAAAABAAAAAAAAAAEAAAAAAAAAAQAAAAAAAAAhAAAAAAAAACEAAAAAAAAAIQAAAAAAAAAhAAAAAAAAACEAAAAAAAAAQQAAAAAAAABBAAAAAAAAAEEAAAAAAAAAQQAAAAAAAABBAAAAAAAAAFEAAAAAAAAAUQAAAAAAAABRAAAAAAAAAFEAAAAAAAAAUQAAAAAAAABhAAAAAAAAAGEAAAAAAAAAYQAAAAAAAABhAAAAAAAAAGEA=\",\"dtype\":\"float64\",\"shape\":[40]},\"fomc_week_min\":{\"__ndarray__\":\"AAAAAAAA8L8AAAAAAADwvwAAAAAAAPC/AAAAAAAA8L8AAAAAAADwvwAAAAAAAAAAAAAAAAAAAAAAAAAAAAAAAAAAAAAAAAAAAAAAAAAAAAAAAAAAAADwPwAAAAAAAPA/AAAAAAAA8D8AAAAAAADwPwAAAAAAAPA/AAAAAAAAAEAAAAAAAAAAQAAAAAAAAABAAAAAAAAAAEAAAAAAAAAAQAAAAAAAAAhAAAAAAAAACEAAAAAAAAAIQAAAAAAAAAhAAAAAAAAACEAAAAAAAAAQQAAAAAAAABBAAAAAAAAAEEAAAAAAAAAQQAAAAAAAABBAAAAAAAAAFEAAAAAAAAAUQAAAAAAAABRAAAAAAAAAFEAAAAAAAAAUQAAAAAAAABhAAAAAAAAAGEAAAAAAAAAYQAAAAAAAABhAAAAAAAAAGEA=\",\"dtype\":\"float64\",\"shape\":[40]},\"fomc_week_std\":{\"__ndarray__\":\"AAAAAAAAAAAAAAAAAAAAAAAAAAAAAAAAAAAAAAAAAAAAAAAAAAAAAAAAAAAAAAAAAAAAAAAAAAAAAAAAAAAAAAAAAAAAAAAAAAAAAAAAAAAAAAAAAAAAAAAAAAAAAAAAAAAAAAAAAAAAAAAAAAAAAAAAAAAAAAAAAAAAAAAAAAAAAAAAAAAAAAAAAAAAAAAAAAAAAAAAAAAAAAAAAAAAAAAAAAAAAAAAAAAAAAAAAAAAAAAAAAAAAAAAAAAAAAAAAAAAAAAAAAAAAAAAAAAAAAAAAAAAAAAAAAAAAAAAAAAAAAAAAAAAAAAAAAAAAAAAAAAAAAAAAAAAAAAAAAAAAAAAAAAAAAAAAAAAAAAAAAAAAAAAAAAAAAAAAAAAAAAAAAAAAAAAAAAAAAAAAAAAAAAAAAAAAAAAAAAAAAAAAAA=\",\"dtype\":\"float64\",\"shape\":[40]}}},\"id\":\"c794cb4e-7c17-4f52-8e5d-ff2c7e34faa2\",\"type\":\"ColumnDataSource\"},{\"attributes\":{\"plot\":{\"id\":\"0dbc2179-35a5-4f68-af01-7590327b24a6\",\"subtype\":\"Figure\",\"type\":\"Plot\"},\"ticker\":{\"id\":\"80093377-d5fa-441e-b1cd-ed2ce693c969\",\"type\":\"BasicTicker\"}},\"id\":\"696f2080-4f88-4718-94c9-f11056264061\",\"type\":\"Grid\"},{\"attributes\":{\"overlay\":{\"id\":\"cbc2b72e-586a-465b-9ba8-0abdba9e94ca\",\"type\":\"BoxAnnotation\"}},\"id\":\"fa116673-a048-4702-9213-62bb9f55ff36\",\"type\":\"BoxZoomTool\"},{\"attributes\":{\"data_source\":{\"id\":\"c794cb4e-7c17-4f52-8e5d-ff2c7e34faa2\",\"type\":\"ColumnDataSource\"},\"glyph\":{\"id\":\"0fed78bc-5d34-4a3e-91fc-e1c91537054a\",\"type\":\"Line\"},\"hover_glyph\":null,\"muted_glyph\":null,\"nonselection_glyph\":{\"id\":\"525e1d56-6d7c-488c-ad2d-9a38751f4e4b\",\"type\":\"Line\"},\"selection_glyph\":null,\"view\":{\"id\":\"af1933dd-6cb2-467b-a54e-202f1bbcfc2e\",\"type\":\"CDSView\"}},\"id\":\"1c91f522-94d7-4f21-a797-4c82f51fdaec\",\"type\":\"GlyphRenderer\"},{\"attributes\":{\"source\":{\"id\":\"c794cb4e-7c17-4f52-8e5d-ff2c7e34faa2\",\"type\":\"ColumnDataSource\"}},\"id\":\"af1933dd-6cb2-467b-a54e-202f1bbcfc2e\",\"type\":\"CDSView\"},{\"attributes\":{\"dimension\":1,\"plot\":{\"id\":\"0dbc2179-35a5-4f68-af01-7590327b24a6\",\"subtype\":\"Figure\",\"type\":\"Plot\"},\"ticker\":{\"id\":\"abbf628a-bbbd-407a-a013-e230e714f8e6\",\"type\":\"BasicTicker\"}},\"id\":\"7debbd8c-f97a-4c32-827d-277acea4cb34\",\"type\":\"Grid\"},{\"attributes\":{},\"id\":\"80093377-d5fa-441e-b1cd-ed2ce693c969\",\"type\":\"BasicTicker\"},{\"attributes\":{},\"id\":\"db0295a6-4549-47fb-bd18-aa379c6a6785\",\"type\":\"SaveTool\"},{\"attributes\":{\"line_color\":\"#1f77b4\",\"x\":{\"field\":\"fomc_day\"},\"y\":{\"field\":\"bus_week_mean\"}},\"id\":\"0fed78bc-5d34-4a3e-91fc-e1c91537054a\",\"type\":\"Line\"},{\"attributes\":{\"callback\":null,\"mode\":\"vline\",\"tooltips\":[[\"(x,y)\",\"(@fomc_day, $y{0.00%})\"]]},\"id\":\"12390028-1db1-4445-a059-0201f99e45d3\",\"type\":\"HoverTool\"},{\"attributes\":{},\"id\":\"fdf66b11-ddcb-4720-b7d6-adc3d26aab6f\",\"type\":\"PanTool\"},{\"attributes\":{},\"id\":\"bea26a1c-3722-4e0c-bbb2-101cd2b99a01\",\"type\":\"BasicTickFormatter\"},{\"attributes\":{},\"id\":\"52b643cc-9baf-4276-bae8-17e026125368\",\"type\":\"HelpTool\"},{\"attributes\":{\"below\":[{\"id\":\"fe860cd9-73f8-455f-82da-1e959cc58850\",\"type\":\"LinearAxis\"}],\"left\":[{\"id\":\"42c4269f-a0c7-4ddf-90db-a23b56bd0675\",\"type\":\"LinearAxis\"}],\"plot_height\":400,\"plot_width\":800,\"renderers\":[{\"id\":\"fe860cd9-73f8-455f-82da-1e959cc58850\",\"type\":\"LinearAxis\"},{\"id\":\"696f2080-4f88-4718-94c9-f11056264061\",\"type\":\"Grid\"},{\"id\":\"42c4269f-a0c7-4ddf-90db-a23b56bd0675\",\"type\":\"LinearAxis\"},{\"id\":\"7debbd8c-f97a-4c32-827d-277acea4cb34\",\"type\":\"Grid\"},{\"id\":\"cbc2b72e-586a-465b-9ba8-0abdba9e94ca\",\"type\":\"BoxAnnotation\"},{\"id\":\"1c91f522-94d7-4f21-a797-4c82f51fdaec\",\"type\":\"GlyphRenderer\"},{\"id\":\"f8e633af-5aee-4429-9853-0b631c9449fa\",\"type\":\"GlyphRenderer\"},{\"id\":\"c46ed5af-b9be-43b0-8d3a-c1677fb4ff29\",\"type\":\"LabelSet\"}],\"title\":{\"id\":\"5b3e4b90-2ecc-4850-8bed-24e13d9929b7\",\"type\":\"Title\"},\"toolbar\":{\"id\":\"1646f25f-fd4d-452d-95be-5582d5994108\",\"type\":\"Toolbar\"},\"x_range\":{\"id\":\"91da58e4-c6d4-4194-a6b5-57116d920282\",\"type\":\"DataRange1d\"},\"x_scale\":{\"id\":\"f996b00f-963e-4cf4-b1ef-fb32ad1e66f6\",\"type\":\"LinearScale\"},\"y_range\":{\"id\":\"6d8dc36d-742b-4add-8e79-887948c156f7\",\"type\":\"DataRange1d\"},\"y_scale\":{\"id\":\"aefe1aae-5b58-47c3-9bd3-87772528330c\",\"type\":\"LinearScale\"}},\"id\":\"0dbc2179-35a5-4f68-af01-7590327b24a6\",\"subtype\":\"Figure\",\"type\":\"Plot\"},{\"attributes\":{\"axis_label\":\"Days since FOMC meeting (weekends excluded)\",\"formatter\":{\"id\":\"56aa4ace-05cd-4517-9271-ee09b035dbeb\",\"type\":\"BasicTickFormatter\"},\"plot\":{\"id\":\"0dbc2179-35a5-4f68-af01-7590327b24a6\",\"subtype\":\"Figure\",\"type\":\"Plot\"},\"ticker\":{\"id\":\"80093377-d5fa-441e-b1cd-ed2ce693c969\",\"type\":\"BasicTicker\"}},\"id\":\"fe860cd9-73f8-455f-82da-1e959cc58850\",\"type\":\"LinearAxis\"},{\"attributes\":{\"axis_label\":\"Avg. 5-day stock return, t to t+4\",\"formatter\":{\"id\":\"bea26a1c-3722-4e0c-bbb2-101cd2b99a01\",\"type\":\"BasicTickFormatter\"},\"plot\":{\"id\":\"0dbc2179-35a5-4f68-af01-7590327b24a6\",\"subtype\":\"Figure\",\"type\":\"Plot\"},\"ticker\":{\"id\":\"abbf628a-bbbd-407a-a013-e230e714f8e6\",\"type\":\"BasicTicker\"}},\"id\":\"42c4269f-a0c7-4ddf-90db-a23b56bd0675\",\"type\":\"LinearAxis\"},{\"attributes\":{\"callback\":null},\"id\":\"91da58e4-c6d4-4194-a6b5-57116d920282\",\"type\":\"DataRange1d\"},{\"attributes\":{\"data_source\":{\"id\":\"c794cb4e-7c17-4f52-8e5d-ff2c7e34faa2\",\"type\":\"ColumnDataSource\"},\"glyph\":{\"id\":\"f3ac02fa-4156-41c9-9b55-e7df77011b1e\",\"type\":\"Circle\"},\"hover_glyph\":null,\"muted_glyph\":null,\"nonselection_glyph\":{\"id\":\"e867ff60-72dd-442b-a339-f9c2de790e89\",\"type\":\"Circle\"},\"selection_glyph\":null,\"view\":{\"id\":\"159479aa-4bc8-411d-90f9-681bb534f9c5\",\"type\":\"CDSView\"}},\"id\":\"f8e633af-5aee-4429-9853-0b631c9449fa\",\"type\":\"GlyphRenderer\"},{\"attributes\":{},\"id\":\"d1f899f0-c1bf-482a-b98c-0615a36c0285\",\"type\":\"ResetTool\"},{\"attributes\":{},\"id\":\"abbf628a-bbbd-407a-a013-e230e714f8e6\",\"type\":\"BasicTicker\"},{\"attributes\":{\"callback\":null},\"id\":\"6d8dc36d-742b-4add-8e79-887948c156f7\",\"type\":\"DataRange1d\"},{\"attributes\":{},\"id\":\"f996b00f-963e-4cf4-b1ef-fb32ad1e66f6\",\"type\":\"LinearScale\"},{\"attributes\":{},\"id\":\"105adbcb-61ed-403b-9843-a6ffebbdfecf\",\"type\":\"WheelZoomTool\"},{\"attributes\":{},\"id\":\"56aa4ace-05cd-4517-9271-ee09b035dbeb\",\"type\":\"BasicTickFormatter\"},{\"attributes\":{\"active_drag\":\"auto\",\"active_inspect\":\"auto\",\"active_scroll\":\"auto\",\"active_tap\":\"auto\",\"tools\":[{\"id\":\"fdf66b11-ddcb-4720-b7d6-adc3d26aab6f\",\"type\":\"PanTool\"},{\"id\":\"105adbcb-61ed-403b-9843-a6ffebbdfecf\",\"type\":\"WheelZoomTool\"},{\"id\":\"fa116673-a048-4702-9213-62bb9f55ff36\",\"type\":\"BoxZoomTool\"},{\"id\":\"db0295a6-4549-47fb-bd18-aa379c6a6785\",\"type\":\"SaveTool\"},{\"id\":\"d1f899f0-c1bf-482a-b98c-0615a36c0285\",\"type\":\"ResetTool\"},{\"id\":\"52b643cc-9baf-4276-bae8-17e026125368\",\"type\":\"HelpTool\"},{\"id\":\"12390028-1db1-4445-a059-0201f99e45d3\",\"type\":\"HoverTool\"}]},\"id\":\"1646f25f-fd4d-452d-95be-5582d5994108\",\"type\":\"Toolbar\"},{\"attributes\":{},\"id\":\"aefe1aae-5b58-47c3-9bd3-87772528330c\",\"type\":\"LinearScale\"},{\"attributes\":{\"fill_color\":{\"value\":\"#1f77b4\"},\"line_color\":{\"value\":\"#1f77b4\"},\"x\":{\"field\":\"fomc_day\"},\"y\":{\"field\":\"bus_week_mean\"}},\"id\":\"f3ac02fa-4156-41c9-9b55-e7df77011b1e\",\"type\":\"Circle\"},{\"attributes\":{\"line_alpha\":0.1,\"line_color\":\"#1f77b4\",\"x\":{\"field\":\"fomc_day\"},\"y\":{\"field\":\"bus_week_mean\"}},\"id\":\"525e1d56-6d7c-488c-ad2d-9a38751f4e4b\",\"type\":\"Line\"},{\"attributes\":{\"bottom_units\":\"screen\",\"fill_alpha\":{\"value\":0.5},\"fill_color\":{\"value\":\"lightgrey\"},\"left_units\":\"screen\",\"level\":\"overlay\",\"line_alpha\":{\"value\":1.0},\"line_color\":{\"value\":\"black\"},\"line_dash\":[4,4],\"line_width\":{\"value\":2},\"plot\":null,\"render_mode\":\"css\",\"right_units\":\"screen\",\"top_units\":\"screen\"},\"id\":\"cbc2b72e-586a-465b-9ba8-0abdba9e94ca\",\"type\":\"BoxAnnotation\"},{\"attributes\":{\"plot\":null,\"text\":\"Stock returns of the FOMC cycle, 1994-2018\"},\"id\":\"5b3e4b90-2ecc-4850-8bed-24e13d9929b7\",\"type\":\"Title\"}],\"root_ids\":[\"0dbc2179-35a5-4f68-af01-7590327b24a6\"]},\"title\":\"Bokeh Application\",\"version\":\"0.12.13\"}};\n",
       "  var render_items = [{\"docid\":\"686147d2-7018-43d7-80c1-9fbb24e6e9e4\",\"elementid\":\"e68a3f23-f81a-45a2-9a30-f2b91488aaf6\",\"modelid\":\"0dbc2179-35a5-4f68-af01-7590327b24a6\"}];\n",
       "  root.Bokeh.embed.embed_items_notebook(docs_json, render_items);\n",
       "\n",
       "  }\n",
       "  if (root.Bokeh !== undefined) {\n",
       "    embed_document(root);\n",
       "  } else {\n",
       "    var attempts = 0;\n",
       "    var timer = setInterval(function(root) {\n",
       "      if (root.Bokeh !== undefined) {\n",
       "        embed_document(root);\n",
       "        clearInterval(timer);\n",
       "      }\n",
       "      attempts++;\n",
       "      if (attempts > 100) {\n",
       "        console.log(\"Bokeh: ERROR: Unable to run BokehJS code because BokehJS library is missing\")\n",
       "        clearInterval(timer);\n",
       "      }\n",
       "    }, 10, root)\n",
       "  }\n",
       "})(window);"
      ],
      "application/vnd.bokehjs_exec.v0+json": ""
     },
     "metadata": {
      "application/vnd.bokehjs_exec.v0+json": {
       "id": "0dbc2179-35a5-4f68-af01-7590327b24a6"
      }
     },
     "output_type": "display_data"
    }
   ],
   "source": [
    "source = ColumnDataSource(group)\n",
    "\n",
    "hover = HoverTool(tooltips=[(\"(x,y)\", \"(@fomc_day, $y{0.00%})\")], mode='vline')\n",
    "p = figure(title='Stock returns of the FOMC cycle, 1994-2018', plot_width=800, plot_height=400) \n",
    "p.add_tools(hover)\n",
    "\n",
    "p.line(x='fomc_day', y='bus_week_mean', source=source)\n",
    "p.circle(x='fomc_day', y='bus_week_mean', source=source)\n",
    "p.xaxis.axis_label = 'Days since FOMC meeting (weekends excluded)'\n",
    "p.yaxis.axis_label = 'Avg. 5-day stock return, t to t+4'\n",
    "labels = LabelSet(x='fomc_day', y='bus_week_mean', text='fomc_day', source=source, x_offset=5, y_offset=-10, text_font_size='10pt')\n",
    "p.add_layout(labels)\n",
    "\n",
    "show(p)"
   ]
  }
 ],
 "metadata": {
  "kernelspec": {
   "display_name": "Python 3",
   "language": "python",
   "name": "python3"
  },
  "language_info": {
   "codemirror_mode": {
    "name": "ipython",
    "version": 3
   },
   "file_extension": ".py",
   "mimetype": "text/x-python",
   "name": "python",
   "nbconvert_exporter": "python",
   "pygments_lexer": "ipython3",
   "version": "3.6.4"
  }
 },
 "nbformat": 4,
 "nbformat_minor": 2
}
